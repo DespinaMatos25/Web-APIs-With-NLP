{
 "cells": [
  {
   "cell_type": "markdown",
   "metadata": {},
   "source": [
    "# Project 3 - Web APIs & NLP\n",
    "*By: Despina Matos*"
   ]
  },
  {
   "cell_type": "markdown",
   "metadata": {},
   "source": [
    "# Part Two: EDA, Preprocessing, and Modeling"
   ]
  },
  {
   "cell_type": "markdown",
   "metadata": {},
   "source": [
    "In our pervious notebook called Part One, we were able to collect and clean the data. We collected two datasets from two different subreddits and then cleaned our dataframes so we can use it in this notebook called Part two."
   ]
  },
  {
   "cell_type": "markdown",
   "metadata": {},
   "source": [
    "## Contents: \n",
    "- [Libraries](#Libraries)\n",
    "- [Exploratory Data Analysis](#Exploratory-Data-Analysis)\n",
    "    - [Load in Datasets](#Load-in-Datasets)\n",
    "        - [Summary Statistics](#Summary-Statistics)\n",
    "        - [Outcomes from Summary Statistics](#Outcomes-from-Summary-Statistics)\n",
    "    - [Frequently Occurring Words](#Frequently-Occurring-Words)\n",
    "        - [Single Gram Words Visualizations](#Single-Gram-Words-Visualizations) \n",
    "        - [Bigram Words Visualizations](#Bigram-Words-Visualizations)\n",
    "    - [Outliers](#Outliers)\n",
    "- [Preprocessing](#Preprocessing)\n",
    "    - [Merge Datasets](#Merge-Datasets)\n",
    "        - [Mapping the y Variable](#Mapping-the-y-Variable)\n",
    "        - [Saved Combined Dataset](#Saved-Combined-Dataset)\n",
    "    - [NLP Preprocessing](#NLP-Preprocessing)\n",
    "        - [Lemmatization](#Lemmatization)\n",
    "        - [Stemming](#Stemming)\n",
    "        - [Stopwords](#Stopwords)\n",
    "        - [Outcomes from NLP Preprocessing](#Outcomes-from-NLP-Preprocessing)\n",
    "    - [Creating X feature and y](#Creating-X-feature-and-y)\n",
    "    - [Train-test Split](#Train-test-Split)\n",
    "    - [Determing the Baseline Score](#Determing-the-Baseline-Score)\n",
    "- [Modeling](#Modeling)\n",
    "    - [Logistic Regression Model](#Logistic-Regression-Model)\n",
    "        - [LR: Confusion Matrix](#LR:-Confusion-Matrix)\n",
    "        - [LR: Interpretation](#LR:-Interpretation)\n",
    "    - [Bernoulli NB Model](#Bernoulli-NB-Model)\n",
    "       - [NB: Confusion Matrix](#NB-Confusion-Matrix)\n",
    "       - [NB: Interpretation](#NB:-Interpretation)\n",
    "    - [Bagged Decision Tree](#Bagged-Decision-Tree)\n",
    "        - [BDT: Confusion Matrix](#BDT-Confusion-Matrix)\n",
    "        - [BDT: Interpretation](#BDT:-Interpretation)\n",
    "    - [Random Forest Model](#Random-Forest-Model)\n",
    "       - [RF: Confusion Matrix](#Confusion-Matrix)\n",
    "       - [RF: Interpretation](#RF:-Interpretation)\n",
    "- [Conclusion and Recommendations](#Conclusion-and-Recommendations)"
   ]
  },
  {
   "cell_type": "markdown",
   "metadata": {},
   "source": [
    "## Libraries"
   ]
  },
  {
   "cell_type": "code",
   "execution_count": 1,
   "metadata": {},
   "outputs": [],
   "source": [
    "#working in the dataframes \n",
    "import pandas as pd\n",
    "import numpy as np\n",
    "\n",
    "#graphing \n",
    "import matplotlib.pyplot as plt\n",
    "import seaborn as sns\n",
    "%matplotlib inline\n",
    "\n",
    "#using nlp \n",
    "from sklearn.feature_extraction.text import CountVectorizer, TfidfVectorizer\n",
    "from sklearn.feature_extraction import stop_words\n",
    "from nltk.tokenize import RegexpTokenizer\n",
    "from nltk.stem import WordNetLemmatizer\n",
    "from nltk.stem.porter import PorterStemmer\n",
    "from nltk.corpus import stopwords \n",
    "\n",
    "#modeling\n",
    "from sklearn.model_selection import train_test_split, GridSearchCV, cross_val_score\n",
    "from sklearn.pipeline import Pipeline\n",
    "from sklearn.linear_model import LogisticRegression\n",
    "from sklearn.naive_bayes import BernoulliNB\n",
    "from sklearn.ensemble import BaggingClassifier, RandomForestClassifier\n",
    "\n",
    "#interpretation on the models \n",
    "from sklearn import metrics\n",
    "from sklearn.metrics import confusion_matrix\n",
    "from sklearn.metrics import mean_squared_error"
   ]
  },
  {
   "cell_type": "markdown",
   "metadata": {},
   "source": [
    "## Exploratory Data Analysis"
   ]
  },
  {
   "cell_type": "markdown",
   "metadata": {},
   "source": [
    "Importing our clean dataframes, we can now explore our data further. First, we will want to get summary statistics for each dataframe. Then we will want to determine the frequently occuring words for each dataframe. Finally, determine the outliers in each of the dataframes."
   ]
  },
  {
   "cell_type": "markdown",
   "metadata": {},
   "source": [
    "### Load in Datasets"
   ]
  },
  {
   "cell_type": "markdown",
   "metadata": {},
   "source": [
    "Let's load in the data."
   ]
  },
  {
   "cell_type": "markdown",
   "metadata": {},
   "source": [
    "*Subreddit 1: Books*"
   ]
  },
  {
   "cell_type": "code",
   "execution_count": 2,
   "metadata": {},
   "outputs": [
    {
     "data": {
      "text/html": [
       "<div>\n",
       "<style scoped>\n",
       "    .dataframe tbody tr th:only-of-type {\n",
       "        vertical-align: middle;\n",
       "    }\n",
       "\n",
       "    .dataframe tbody tr th {\n",
       "        vertical-align: top;\n",
       "    }\n",
       "\n",
       "    .dataframe thead th {\n",
       "        text-align: right;\n",
       "    }\n",
       "</style>\n",
       "<table border=\"1\" class=\"dataframe\">\n",
       "  <thead>\n",
       "    <tr style=\"text-align: right;\">\n",
       "      <th></th>\n",
       "      <th>title</th>\n",
       "      <th>author</th>\n",
       "      <th>selftext</th>\n",
       "      <th>subreddit</th>\n",
       "    </tr>\n",
       "  </thead>\n",
       "  <tbody>\n",
       "    <tr>\n",
       "      <th>0</th>\n",
       "      <td>Book Suggestions for my husband and I to read ...</td>\n",
       "      <td>spiritofthesquirrels</td>\n",
       "      <td>My husband and I have decided to start and fin...</td>\n",
       "      <td>books</td>\n",
       "    </tr>\n",
       "    <tr>\n",
       "      <th>1</th>\n",
       "      <td>The one where Friends spoils Little Women</td>\n",
       "      <td>ladydadas-nightmare</td>\n",
       "      <td>I just started reading 'Little Women', and was...</td>\n",
       "      <td>books</td>\n",
       "    </tr>\n",
       "    <tr>\n",
       "      <th>2</th>\n",
       "      <td>The must-read works of the late, great Jim Har...</td>\n",
       "      <td>allahu_adamsmith</td>\n",
       "      <td>NaN</td>\n",
       "      <td>books</td>\n",
       "    </tr>\n",
       "    <tr>\n",
       "      <th>3</th>\n",
       "      <td>Margaret Atwood to publish first collection of...</td>\n",
       "      <td>shabuluba</td>\n",
       "      <td>NaN</td>\n",
       "      <td>books</td>\n",
       "    </tr>\n",
       "    <tr>\n",
       "      <th>4</th>\n",
       "      <td>One Man’s Impossible Quest to Read—and Review—...</td>\n",
       "      <td>pearloz</td>\n",
       "      <td>NaN</td>\n",
       "      <td>books</td>\n",
       "    </tr>\n",
       "  </tbody>\n",
       "</table>\n",
       "</div>"
      ],
      "text/plain": [
       "                                               title                author  \\\n",
       "0  Book Suggestions for my husband and I to read ...  spiritofthesquirrels   \n",
       "1          The one where Friends spoils Little Women   ladydadas-nightmare   \n",
       "2  The must-read works of the late, great Jim Har...      allahu_adamsmith   \n",
       "3  Margaret Atwood to publish first collection of...             shabuluba   \n",
       "4  One Man’s Impossible Quest to Read—and Review—...               pearloz   \n",
       "\n",
       "                                            selftext subreddit  \n",
       "0  My husband and I have decided to start and fin...     books  \n",
       "1  I just started reading 'Little Women', and was...     books  \n",
       "2                                                NaN     books  \n",
       "3                                                NaN     books  \n",
       "4                                                NaN     books  "
      ]
     },
     "execution_count": 2,
     "metadata": {},
     "output_type": "execute_result"
    }
   ],
   "source": [
    "#Read in the data\n",
    "subreddit_1 = pd.read_csv('../datasets/subreddit1.csv')\n",
    "#Check to see if it worked\n",
    "subreddit_1.head()"
   ]
  },
  {
   "cell_type": "markdown",
   "metadata": {},
   "source": [
    "Our subreddit 1 data was loaded in successfully."
   ]
  },
  {
   "cell_type": "markdown",
   "metadata": {},
   "source": [
    "*Subreddit 2: Movies*"
   ]
  },
  {
   "cell_type": "code",
   "execution_count": 3,
   "metadata": {},
   "outputs": [
    {
     "data": {
      "text/html": [
       "<div>\n",
       "<style scoped>\n",
       "    .dataframe tbody tr th:only-of-type {\n",
       "        vertical-align: middle;\n",
       "    }\n",
       "\n",
       "    .dataframe tbody tr th {\n",
       "        vertical-align: top;\n",
       "    }\n",
       "\n",
       "    .dataframe thead th {\n",
       "        text-align: right;\n",
       "    }\n",
       "</style>\n",
       "<table border=\"1\" class=\"dataframe\">\n",
       "  <thead>\n",
       "    <tr style=\"text-align: right;\">\n",
       "      <th></th>\n",
       "      <th>title</th>\n",
       "      <th>author</th>\n",
       "      <th>selftext</th>\n",
       "      <th>subreddit</th>\n",
       "    </tr>\n",
       "  </thead>\n",
       "  <tbody>\n",
       "    <tr>\n",
       "      <th>0</th>\n",
       "      <td>Gold Jewellery Manufacturer in Jaipur</td>\n",
       "      <td>topstenclub</td>\n",
       "      <td>NaN</td>\n",
       "      <td>movies</td>\n",
       "    </tr>\n",
       "    <tr>\n",
       "      <th>1</th>\n",
       "      <td>looking for a movie similar to Stay alive, wit...</td>\n",
       "      <td>harunamika</td>\n",
       "      <td>Hello i am looking a movie similar to the movi...</td>\n",
       "      <td>movies</td>\n",
       "    </tr>\n",
       "    <tr>\n",
       "      <th>2</th>\n",
       "      <td>2019 movies that hit you most emotionally?</td>\n",
       "      <td>funnypilgo</td>\n",
       "      <td>What movies made you cry or nearly made you bu...</td>\n",
       "      <td>movies</td>\n",
       "    </tr>\n",
       "    <tr>\n",
       "      <th>3</th>\n",
       "      <td>Where can I watch Salò, or the 120 Days of Sod...</td>\n",
       "      <td>westoffensive</td>\n",
       "      <td>[removed]</td>\n",
       "      <td>movies</td>\n",
       "    </tr>\n",
       "    <tr>\n",
       "      <th>4</th>\n",
       "      <td>Contagion: From Simple Cough, to Global Pandemic</td>\n",
       "      <td>GoldenJoel</td>\n",
       "      <td>NaN</td>\n",
       "      <td>movies</td>\n",
       "    </tr>\n",
       "  </tbody>\n",
       "</table>\n",
       "</div>"
      ],
      "text/plain": [
       "                                               title         author  \\\n",
       "0              Gold Jewellery Manufacturer in Jaipur    topstenclub   \n",
       "1  looking for a movie similar to Stay alive, wit...     harunamika   \n",
       "2         2019 movies that hit you most emotionally?     funnypilgo   \n",
       "3  Where can I watch Salò, or the 120 Days of Sod...  westoffensive   \n",
       "4   Contagion: From Simple Cough, to Global Pandemic     GoldenJoel   \n",
       "\n",
       "                                            selftext subreddit  \n",
       "0                                                NaN    movies  \n",
       "1  Hello i am looking a movie similar to the movi...    movies  \n",
       "2  What movies made you cry or nearly made you bu...    movies  \n",
       "3                                          [removed]    movies  \n",
       "4                                                NaN    movies  "
      ]
     },
     "execution_count": 3,
     "metadata": {},
     "output_type": "execute_result"
    }
   ],
   "source": [
    "#Read in the data\n",
    "subreddit_2 = pd.read_csv('../datasets/subreddit2.csv')\n",
    "#Check to see if it worked\n",
    "subreddit_2.head()"
   ]
  },
  {
   "cell_type": "markdown",
   "metadata": {},
   "source": [
    "Our subreddit 2 data was loaded in successfully as well."
   ]
  },
  {
   "cell_type": "markdown",
   "metadata": {},
   "source": [
    "#### Summary Statistics"
   ]
  },
  {
   "cell_type": "markdown",
   "metadata": {},
   "source": [
    "In general, summary statistics will provide information about our two dataframes. We will use the info and describe methods from the Pandas library to get our information. "
   ]
  },
  {
   "cell_type": "markdown",
   "metadata": {},
   "source": [
    "*Subreddit 1: Books*"
   ]
  },
  {
   "cell_type": "markdown",
   "metadata": {},
   "source": [
    "**Using the info method**"
   ]
  },
  {
   "cell_type": "code",
   "execution_count": 4,
   "metadata": {},
   "outputs": [
    {
     "name": "stdout",
     "output_type": "stream",
     "text": [
      "<class 'pandas.core.frame.DataFrame'>\n",
      "RangeIndex: 492 entries, 0 to 491\n",
      "Data columns (total 4 columns):\n",
      "title        492 non-null object\n",
      "author       492 non-null object\n",
      "selftext     400 non-null object\n",
      "subreddit    492 non-null object\n",
      "dtypes: object(4)\n",
      "memory usage: 15.5+ KB\n"
     ]
    }
   ],
   "source": [
    "#Checking the info for subreddit 1\n",
    "subreddit_1.info()"
   ]
  },
  {
   "cell_type": "markdown",
   "metadata": {},
   "source": [
    "Looking at the subreddit 1 dataset, there are 492 entries and all of the datatypes are in object form. Also, there is missing data in selftext feature. We will have to determine what to do with this feature later on."
   ]
  },
  {
   "cell_type": "markdown",
   "metadata": {},
   "source": [
    "**Using the describe method**"
   ]
  },
  {
   "cell_type": "code",
   "execution_count": 5,
   "metadata": {},
   "outputs": [
    {
     "data": {
      "text/html": [
       "<div>\n",
       "<style scoped>\n",
       "    .dataframe tbody tr th:only-of-type {\n",
       "        vertical-align: middle;\n",
       "    }\n",
       "\n",
       "    .dataframe tbody tr th {\n",
       "        vertical-align: top;\n",
       "    }\n",
       "\n",
       "    .dataframe thead th {\n",
       "        text-align: right;\n",
       "    }\n",
       "</style>\n",
       "<table border=\"1\" class=\"dataframe\">\n",
       "  <thead>\n",
       "    <tr style=\"text-align: right;\">\n",
       "      <th></th>\n",
       "      <th>count</th>\n",
       "      <th>unique</th>\n",
       "      <th>top</th>\n",
       "      <th>freq</th>\n",
       "    </tr>\n",
       "  </thead>\n",
       "  <tbody>\n",
       "    <tr>\n",
       "      <th>title</th>\n",
       "      <td>492</td>\n",
       "      <td>488</td>\n",
       "      <td>Barnes &amp;amp; Noble Leatherbound Classic Collec...</td>\n",
       "      <td>2</td>\n",
       "    </tr>\n",
       "    <tr>\n",
       "      <th>author</th>\n",
       "      <td>492</td>\n",
       "      <td>422</td>\n",
       "      <td>weightlossfitnss</td>\n",
       "      <td>15</td>\n",
       "    </tr>\n",
       "    <tr>\n",
       "      <th>selftext</th>\n",
       "      <td>400</td>\n",
       "      <td>269</td>\n",
       "      <td>[removed]</td>\n",
       "      <td>132</td>\n",
       "    </tr>\n",
       "    <tr>\n",
       "      <th>subreddit</th>\n",
       "      <td>492</td>\n",
       "      <td>1</td>\n",
       "      <td>books</td>\n",
       "      <td>492</td>\n",
       "    </tr>\n",
       "  </tbody>\n",
       "</table>\n",
       "</div>"
      ],
      "text/plain": [
       "          count unique                                                top freq\n",
       "title       492    488  Barnes &amp; Noble Leatherbound Classic Collec...    2\n",
       "author      492    422                                   weightlossfitnss   15\n",
       "selftext    400    269                                          [removed]  132\n",
       "subreddit   492      1                                              books  492"
      ]
     },
     "execution_count": 5,
     "metadata": {},
     "output_type": "execute_result"
    }
   ],
   "source": [
    "#checking the stats for subreddit 1\n",
    "subreddit_1.describe().T"
   ]
  },
  {
   "cell_type": "markdown",
   "metadata": {},
   "source": [
    "Looking at the subreddit 1 dataset, the dataset seems ordinary. We also noticed that the dataset has 2 titles that are similar, 15 posts were from a User called weightlossfitnss, and there is 132 removed content. We will need to explore further with visualizations to fully determine the irregulars in this dataset.  "
   ]
  },
  {
   "cell_type": "markdown",
   "metadata": {},
   "source": [
    "*Subreddit 2: Movies*"
   ]
  },
  {
   "cell_type": "markdown",
   "metadata": {},
   "source": [
    "**Using the info method**"
   ]
  },
  {
   "cell_type": "code",
   "execution_count": 6,
   "metadata": {},
   "outputs": [
    {
     "name": "stdout",
     "output_type": "stream",
     "text": [
      "<class 'pandas.core.frame.DataFrame'>\n",
      "RangeIndex: 475 entries, 0 to 474\n",
      "Data columns (total 4 columns):\n",
      "title        475 non-null object\n",
      "author       475 non-null object\n",
      "selftext     194 non-null object\n",
      "subreddit    475 non-null object\n",
      "dtypes: object(4)\n",
      "memory usage: 15.0+ KB\n"
     ]
    }
   ],
   "source": [
    "#Checking the info for subreddit 2\n",
    "subreddit_2.info()"
   ]
  },
  {
   "cell_type": "markdown",
   "metadata": {},
   "source": [
    "Looking at the subreddit 2 dataset, there are 475 entries and also all of the datatypes are in object form. There is also missing data in selftext feature as like subreddit 1. We will have to determine what to do with this feature as well later on."
   ]
  },
  {
   "cell_type": "markdown",
   "metadata": {},
   "source": [
    "**Using the describe method**"
   ]
  },
  {
   "cell_type": "code",
   "execution_count": 7,
   "metadata": {},
   "outputs": [
    {
     "data": {
      "text/html": [
       "<div>\n",
       "<style scoped>\n",
       "    .dataframe tbody tr th:only-of-type {\n",
       "        vertical-align: middle;\n",
       "    }\n",
       "\n",
       "    .dataframe tbody tr th {\n",
       "        vertical-align: top;\n",
       "    }\n",
       "\n",
       "    .dataframe thead th {\n",
       "        text-align: right;\n",
       "    }\n",
       "</style>\n",
       "<table border=\"1\" class=\"dataframe\">\n",
       "  <thead>\n",
       "    <tr style=\"text-align: right;\">\n",
       "      <th></th>\n",
       "      <th>count</th>\n",
       "      <th>unique</th>\n",
       "      <th>top</th>\n",
       "      <th>freq</th>\n",
       "    </tr>\n",
       "  </thead>\n",
       "  <tbody>\n",
       "    <tr>\n",
       "      <th>title</th>\n",
       "      <td>475</td>\n",
       "      <td>437</td>\n",
       "      <td>Opie Cunningham and Netflix team up to make Hi...</td>\n",
       "      <td>4</td>\n",
       "    </tr>\n",
       "    <tr>\n",
       "      <th>author</th>\n",
       "      <td>475</td>\n",
       "      <td>272</td>\n",
       "      <td>topstenclub</td>\n",
       "      <td>68</td>\n",
       "    </tr>\n",
       "    <tr>\n",
       "      <th>selftext</th>\n",
       "      <td>194</td>\n",
       "      <td>82</td>\n",
       "      <td>[removed]</td>\n",
       "      <td>113</td>\n",
       "    </tr>\n",
       "    <tr>\n",
       "      <th>subreddit</th>\n",
       "      <td>475</td>\n",
       "      <td>1</td>\n",
       "      <td>movies</td>\n",
       "      <td>475</td>\n",
       "    </tr>\n",
       "  </tbody>\n",
       "</table>\n",
       "</div>"
      ],
      "text/plain": [
       "          count unique                                                top freq\n",
       "title       475    437  Opie Cunningham and Netflix team up to make Hi...    4\n",
       "author      475    272                                        topstenclub   68\n",
       "selftext    194     82                                          [removed]  113\n",
       "subreddit   475      1                                             movies  475"
      ]
     },
     "execution_count": 7,
     "metadata": {},
     "output_type": "execute_result"
    }
   ],
   "source": [
    "#checking the stats for subreddit 2\n",
    "subreddit_2.describe().T"
   ]
  },
  {
   "cell_type": "markdown",
   "metadata": {},
   "source": [
    "Looking at the subreddit 2 dataset, the dataset seems ordinary. We also noticed that the dataset has 4 titles that are similar, 68 posts were from a User called topstenclub, and there is 113 removed content. We will also need to explore further with visualizations to fully determine the irregulars in this dataset as well."
   ]
  },
  {
   "cell_type": "markdown",
   "metadata": {},
   "source": [
    "After sorting through the statistics, we determined that we will not use the selftext feature because many of these posts consist of not-text data. We will not be able to use this data when modeling classification. So lets drop the selftext feature in both of our datasets."
   ]
  },
  {
   "cell_type": "markdown",
   "metadata": {},
   "source": [
    "#### Outcomes from Summary Statistics"
   ]
  },
  {
   "cell_type": "markdown",
   "metadata": {},
   "source": [
    "*Subreddit 1: Books*"
   ]
  },
  {
   "cell_type": "code",
   "execution_count": 8,
   "metadata": {},
   "outputs": [],
   "source": [
    "#dropping the selftext feature \n",
    "subreddit_1.drop(['selftext'], axis = 1, inplace = True)"
   ]
  },
  {
   "cell_type": "markdown",
   "metadata": {},
   "source": [
    "Lets check the shape to see if it worked."
   ]
  },
  {
   "cell_type": "code",
   "execution_count": 9,
   "metadata": {},
   "outputs": [
    {
     "data": {
      "text/plain": [
       "(492, 3)"
      ]
     },
     "execution_count": 9,
     "metadata": {},
     "output_type": "execute_result"
    }
   ],
   "source": [
    "#checking the shape \n",
    "subreddit_1.shape"
   ]
  },
  {
   "cell_type": "markdown",
   "metadata": {},
   "source": [
    "Our subreddit 1 has successfully drop the selftext feature."
   ]
  },
  {
   "cell_type": "markdown",
   "metadata": {},
   "source": [
    "*Subreddit 2: Movies*"
   ]
  },
  {
   "cell_type": "code",
   "execution_count": 10,
   "metadata": {},
   "outputs": [],
   "source": [
    "#dropping the selftext feature \n",
    "subreddit_2.drop(['selftext'], axis = 1, inplace = True)"
   ]
  },
  {
   "cell_type": "markdown",
   "metadata": {},
   "source": [
    "Lets check the shape to see if it worked."
   ]
  },
  {
   "cell_type": "code",
   "execution_count": 11,
   "metadata": {},
   "outputs": [
    {
     "data": {
      "text/plain": [
       "(475, 3)"
      ]
     },
     "execution_count": 11,
     "metadata": {},
     "output_type": "execute_result"
    }
   ],
   "source": [
    "#checking the shape \n",
    "subreddit_2.shape"
   ]
  },
  {
   "cell_type": "markdown",
   "metadata": {},
   "source": [
    "Our subreddit 2 has successfully drop the selftext feature."
   ]
  },
  {
   "cell_type": "markdown",
   "metadata": {},
   "source": [
    "Finally, lets look at our datasets features."
   ]
  },
  {
   "cell_type": "code",
   "execution_count": 12,
   "metadata": {},
   "outputs": [
    {
     "data": {
      "text/plain": [
       "Index(['title', 'author', 'subreddit'], dtype='object')"
      ]
     },
     "execution_count": 12,
     "metadata": {},
     "output_type": "execute_result"
    }
   ],
   "source": [
    "#checking the features in subreddit 1\n",
    "subreddit_1.columns"
   ]
  },
  {
   "cell_type": "code",
   "execution_count": 13,
   "metadata": {},
   "outputs": [
    {
     "data": {
      "text/plain": [
       "Index(['title', 'author', 'subreddit'], dtype='object')"
      ]
     },
     "execution_count": 13,
     "metadata": {},
     "output_type": "execute_result"
    }
   ],
   "source": [
    "#checking the features in subreddit 2\n",
    "subreddit_2.columns"
   ]
  },
  {
   "cell_type": "markdown",
   "metadata": {},
   "source": [
    "Both of the datasets have only three fetaures: title, author, and subreddit. \n",
    "\n",
    "If we *recall* our problem statement, we are trying to find content that are similar to two web sources. Based off the features we have left, we should only focus our model on the title feature because it has the largest content we can observe out of all the features. With this in mind, we will also want the title feature because it will help us in using Natural Language Processing (NLP) to train our classification model. Therefore, in the next section, we will investigate the use of NLP in our data science process.\n",
    "\n",
    "We will start with finding the frequently occurring words in each of our datasets because in effect, we want to see if these words have similar content in both of the datasets."
   ]
  },
  {
   "cell_type": "markdown",
   "metadata": {},
   "source": [
    "### Frequently Occurring Words"
   ]
  },
  {
   "cell_type": "markdown",
   "metadata": {},
   "source": [
    "Natural Language Processing (NLP) describes the field of getting computers to understand human language. In other words, we will be using the title feature with NLP because we will want the computer to understand how to sort, filter, and examine frequently occuring words in both of our datasets. \n",
    "\n",
    "\n",
    "We will begin with using the lemmatize function to get an accurate set of words. Then, we will use CountVectorizer from the sklearn library. CountVectorizer is the easiest way for us to convert text data into a structured, numeric X dataframe. We are going to use CountVectorizer because it only looks at pure counts. The pure counts here are the \"frequently\" words in each dataset. Then, we will create a visualization of these similar words and explain our insights based off the visualizations.   "
   ]
  },
  {
   "cell_type": "markdown",
   "metadata": {},
   "source": [
    "Lets create a function to find the most frequently single gram words use in each dataframe."
   ]
  },
  {
   "cell_type": "code",
   "execution_count": 14,
   "metadata": {},
   "outputs": [],
   "source": [
    "#lets create a function to find the frequently words\n",
    "def word_counter(df):\n",
    "    \n",
    "    #Getting our text data in our dataframe and use the copy function so we will not miss up our dataframe\n",
    "    token = df.copy()\n",
    "    \n",
    "    #Instantiate tokenizer\n",
    "    tokenizer = RegexpTokenizer(r'[A-z]+')\n",
    "\n",
    "    #Run tokenizer, use join method to get our post to become lowercase\n",
    "    #Created with Noah C. \n",
    "    tokens = [\" \".join(tokenizer.tokenize(post.lower())) for post in token]\n",
    "    \n",
    "    #Instantiate lemmatizer\n",
    "    lemmatizer = WordNetLemmatizer()\n",
    "\n",
    "    #use the split method to split our posts and lemmatize individual words in each post \n",
    "    #Created with Noah C. \n",
    "    tokens_lem = [[lemmatizer.lemmatize(word) for word in post.split(' ')] for post in tokens]\n",
    "\n",
    "    #lemmatize tokens, use the join method to get our post to become lemmatize\n",
    "    #Created with Noah C.\n",
    "    lem_tokens = [\" \".join(post) for post in tokens_lem]\n",
    "    \n",
    "    #replace our text data with new lemmatize data\n",
    "    df = lem_tokens\n",
    "    \n",
    "    #Instantiate a CountVectorizer\n",
    "    cvec = CountVectorizer(stop_words = 'english')\n",
    "    #using the stop words parameter & setting it to english to eliminate a group of words\n",
    "    \n",
    "    #fit the vectorizer on our corpus\n",
    "    cvec.fit(df)\n",
    "    \n",
    "    #transform the corpus\n",
    "    title = cvec.transform(df)\n",
    "    \n",
    "    #convert df into a dataframe\n",
    "    df = pd.DataFrame(title.toarray(), #able to have strings into floats\n",
    "                          columns = cvec.get_feature_names()) #get feature row names\n",
    "\n",
    "    #Word counts \n",
    "    counts = df.sum().sort_values(ascending=False)\n",
    "    \n",
    "    return counts"
   ]
  },
  {
   "cell_type": "markdown",
   "metadata": {},
   "source": [
    "Lets implement this function on our two dataframes."
   ]
  },
  {
   "cell_type": "markdown",
   "metadata": {},
   "source": [
    "*Subreddit 1: Books*"
   ]
  },
  {
   "cell_type": "code",
   "execution_count": 15,
   "metadata": {
    "scrolled": true
   },
   "outputs": [
    {
     "data": {
      "text/plain": [
       "book          195\n",
       "read           67\n",
       "reading        36\n",
       "just           28\n",
       "help           22\n",
       "             ... \n",
       "nurture         1\n",
       "nutritious      1\n",
       "ny              1\n",
       "nyc             1\n",
       "abai            1\n",
       "Length: 1371, dtype: int64"
      ]
     },
     "execution_count": 15,
     "metadata": {},
     "output_type": "execute_result"
    }
   ],
   "source": [
    "word_counter(subreddit_1['title'])"
   ]
  },
  {
   "cell_type": "markdown",
   "metadata": {},
   "source": [
    "*Subreddit 2: Movies*"
   ]
  },
  {
   "cell_type": "code",
   "execution_count": 16,
   "metadata": {},
   "outputs": [
    {
     "data": {
      "text/plain": [
       "movie        153\n",
       "film          37\n",
       "wa            27\n",
       "time          26\n",
       "best          23\n",
       "            ... \n",
       "non            1\n",
       "norovirus      1\n",
       "nostalgic      1\n",
       "nother         1\n",
       "aaa            1\n",
       "Length: 1650, dtype: int64"
      ]
     },
     "execution_count": 16,
     "metadata": {},
     "output_type": "execute_result"
    }
   ],
   "source": [
    "word_counter(subreddit_2['title'])"
   ]
  },
  {
   "cell_type": "markdown",
   "metadata": {},
   "source": [
    "Next, lets look at this visually to understand it better, lets pick the top 20 words."
   ]
  },
  {
   "cell_type": "markdown",
   "metadata": {},
   "source": [
    "#### Single Gram Words Visualizations"
   ]
  },
  {
   "cell_type": "markdown",
   "metadata": {},
   "source": [
    "*Subreddit 1: Books*"
   ]
  },
  {
   "cell_type": "code",
   "execution_count": 17,
   "metadata": {},
   "outputs": [],
   "source": [
    "#create a new dataframe for wordcount\n",
    "books_wordcount = pd.DataFrame(data = word_counter(subreddit_1['title']),#using the function above\n",
    "                               columns = [\"Frequency\"]) #calling the column frequency"
   ]
  },
  {
   "cell_type": "code",
   "execution_count": 18,
   "metadata": {},
   "outputs": [],
   "source": [
    "#creating a top20 variable from our dataframe\n",
    "books_wordcount_top20 = books_wordcount.head(20)"
   ]
  },
  {
   "cell_type": "code",
   "execution_count": 19,
   "metadata": {},
   "outputs": [
    {
     "data": {
      "image/png": "[encoded data removed]",
      "text/plain": [
       "<Figure size 1080x504 with 1 Axes>"
      ]
     },
     "metadata": {
      "needs_background": "light"
     },
     "output_type": "display_data"
    }
   ],
   "source": [
    "#creating a barh graph for the wordcount dataframe \n",
    "\n",
    "#create a barh of our data\n",
    "books_wordcount_top20.sort_values(by = 'Frequency', #by the fequency column\n",
    "                                  ascending = True).plot(kind = 'barh', #barh type\n",
    "                                                         color = 'green', #color\n",
    "                                                         figsize = (15,7))#graph size\n",
    "\n",
    "plt.xlabel('Frequency', fontsize = 15)#xlabel on graph\n",
    "plt.ylabel('Words', fontsize = 15)#ylabel on graph \n",
    "plt.xticks(np.arange(0, 200, step = 10))#change the ticks on the x-axis\n",
    "\n",
    "plt.title(\"Top 20 Frequently Single Gram Words in the Books Subreddit\", fontsize = 18); #title"
   ]
  },
  {
   "cell_type": "markdown",
   "metadata": {},
   "source": [
    "We observed that the single gram words in subreddit 1 are spread out in the frequency scale."
   ]
  },
  {
   "cell_type": "markdown",
   "metadata": {},
   "source": [
    "Additionally, lets create a table to clearly show what is happening."
   ]
  },
  {
   "cell_type": "code",
   "execution_count": 20,
   "metadata": {},
   "outputs": [
    {
     "data": {
      "text/html": [
       "<div>\n",
       "<style scoped>\n",
       "    .dataframe tbody tr th:only-of-type {\n",
       "        vertical-align: middle;\n",
       "    }\n",
       "\n",
       "    .dataframe tbody tr th {\n",
       "        vertical-align: top;\n",
       "    }\n",
       "\n",
       "    .dataframe thead th {\n",
       "        text-align: right;\n",
       "    }\n",
       "</style>\n",
       "<table border=\"1\" class=\"dataframe\">\n",
       "  <thead>\n",
       "    <tr style=\"text-align: right;\">\n",
       "      <th></th>\n",
       "      <th>Frequency</th>\n",
       "    </tr>\n",
       "  </thead>\n",
       "  <tbody>\n",
       "    <tr>\n",
       "      <th>book</th>\n",
       "      <td>195</td>\n",
       "    </tr>\n",
       "    <tr>\n",
       "      <th>read</th>\n",
       "      <td>67</td>\n",
       "    </tr>\n",
       "    <tr>\n",
       "      <th>reading</th>\n",
       "      <td>36</td>\n",
       "    </tr>\n",
       "    <tr>\n",
       "      <th>just</th>\n",
       "      <td>28</td>\n",
       "    </tr>\n",
       "    <tr>\n",
       "      <th>help</th>\n",
       "      <td>22</td>\n",
       "    </tr>\n",
       "    <tr>\n",
       "      <th>best</th>\n",
       "      <td>21</td>\n",
       "    </tr>\n",
       "    <tr>\n",
       "      <th>need</th>\n",
       "      <td>21</td>\n",
       "    </tr>\n",
       "    <tr>\n",
       "      <th>good</th>\n",
       "      <td>19</td>\n",
       "    </tr>\n",
       "    <tr>\n",
       "      <th>finished</th>\n",
       "      <td>18</td>\n",
       "    </tr>\n",
       "    <tr>\n",
       "      <th>looking</th>\n",
       "      <td>16</td>\n",
       "    </tr>\n",
       "    <tr>\n",
       "      <th>novel</th>\n",
       "      <td>16</td>\n",
       "    </tr>\n",
       "    <tr>\n",
       "      <th>author</th>\n",
       "      <td>15</td>\n",
       "    </tr>\n",
       "    <tr>\n",
       "      <th>new</th>\n",
       "      <td>14</td>\n",
       "    </tr>\n",
       "    <tr>\n",
       "      <th>like</th>\n",
       "      <td>14</td>\n",
       "    </tr>\n",
       "    <tr>\n",
       "      <th>recommendation</th>\n",
       "      <td>13</td>\n",
       "    </tr>\n",
       "    <tr>\n",
       "      <th>wa</th>\n",
       "      <td>13</td>\n",
       "    </tr>\n",
       "    <tr>\n",
       "      <th>library</th>\n",
       "      <td>12</td>\n",
       "    </tr>\n",
       "    <tr>\n",
       "      <th>great</th>\n",
       "      <td>12</td>\n",
       "    </tr>\n",
       "    <tr>\n",
       "      <th>series</th>\n",
       "      <td>12</td>\n",
       "    </tr>\n",
       "    <tr>\n",
       "      <th>american</th>\n",
       "      <td>12</td>\n",
       "    </tr>\n",
       "  </tbody>\n",
       "</table>\n",
       "</div>"
      ],
      "text/plain": [
       "                Frequency\n",
       "book                  195\n",
       "read                   67\n",
       "reading                36\n",
       "just                   28\n",
       "help                   22\n",
       "best                   21\n",
       "need                   21\n",
       "good                   19\n",
       "finished               18\n",
       "looking                16\n",
       "novel                  16\n",
       "author                 15\n",
       "new                    14\n",
       "like                   14\n",
       "recommendation         13\n",
       "wa                     13\n",
       "library                12\n",
       "great                  12\n",
       "series                 12\n",
       "american               12"
      ]
     },
     "execution_count": 20,
     "metadata": {},
     "output_type": "execute_result"
    }
   ],
   "source": [
    "#looking at the top20 \n",
    "books_wordcount_top20"
   ]
  },
  {
   "cell_type": "markdown",
   "metadata": {},
   "source": [
    "**INSIGHTS:** We were able to concluded that 'book' is the most occurring single gram word. That is a vaild statement because subreddit 1 is all about that. In general, all of these words are what subreddit 1 is about. Also, it is interesting that the word 'wa' is up there. Maybe it is a typo. But, it is mostly likely how the word was lemmatized. In the event of that, maybe this dilemma will alter our models."
   ]
  },
  {
   "cell_type": "markdown",
   "metadata": {},
   "source": [
    "*Subreddit 2: Movies*"
   ]
  },
  {
   "cell_type": "code",
   "execution_count": 21,
   "metadata": {},
   "outputs": [],
   "source": [
    "#create a new dataframe for wordcount\n",
    "movies_wordcount = pd.DataFrame(data = word_counter(subreddit_2['title']),#using the function above\n",
    "                               columns = [\"Frequency\"]) #calling the column frequency"
   ]
  },
  {
   "cell_type": "code",
   "execution_count": 22,
   "metadata": {},
   "outputs": [],
   "source": [
    "#creating a top20 variable from our dataframe\n",
    "movies_wordcount_top20 = movies_wordcount.head(20)"
   ]
  },
  {
   "cell_type": "code",
   "execution_count": 23,
   "metadata": {},
   "outputs": [
    {
     "data": {
      "image/png": "[encoded data removed]",
      "text/plain": [
       "<Figure size 1080x504 with 1 Axes>"
      ]
     },
     "metadata": {
      "needs_background": "light"
     },
     "output_type": "display_data"
    }
   ],
   "source": [
    "#creating a barh graph for the wordcount dataframe \n",
    "\n",
    "#create a barh of our data\n",
    "movies_wordcount_top20.sort_values(by = 'Frequency', #by the fequency column\n",
    "                                  ascending = True).plot(kind = 'barh', #barh type\n",
    "                                                         color = 'green', #color\n",
    "                                                         figsize = (15,7))#graph size\n",
    "\n",
    "plt.xlabel('Frequency', fontsize = 15)#xlabel on graph\n",
    "plt.ylabel('Words', fontsize = 15)#ylabel on graph \n",
    "plt.xticks(np.arange(0, 155, step = 10))#change the ticks on the x-axis\n",
    "\n",
    "plt.title(\"Top 20 Frequently Single Gram Words in Movies Subreddit\", fontsize = 18); #title"
   ]
  },
  {
   "cell_type": "markdown",
   "metadata": {},
   "source": [
    "We also observed that the single gram words in subreddit 2 are spread out in the frequency scale."
   ]
  },
  {
   "cell_type": "markdown",
   "metadata": {},
   "source": [
    "Additionally, lets also create a table to clearly show what is happening."
   ]
  },
  {
   "cell_type": "code",
   "execution_count": 24,
   "metadata": {},
   "outputs": [
    {
     "data": {
      "text/html": [
       "<div>\n",
       "<style scoped>\n",
       "    .dataframe tbody tr th:only-of-type {\n",
       "        vertical-align: middle;\n",
       "    }\n",
       "\n",
       "    .dataframe tbody tr th {\n",
       "        vertical-align: top;\n",
       "    }\n",
       "\n",
       "    .dataframe thead th {\n",
       "        text-align: right;\n",
       "    }\n",
       "</style>\n",
       "<table border=\"1\" class=\"dataframe\">\n",
       "  <thead>\n",
       "    <tr style=\"text-align: right;\">\n",
       "      <th></th>\n",
       "      <th>Frequency</th>\n",
       "    </tr>\n",
       "  </thead>\n",
       "  <tbody>\n",
       "    <tr>\n",
       "      <th>movie</th>\n",
       "      <td>153</td>\n",
       "    </tr>\n",
       "    <tr>\n",
       "      <th>film</th>\n",
       "      <td>37</td>\n",
       "    </tr>\n",
       "    <tr>\n",
       "      <th>wa</th>\n",
       "      <td>27</td>\n",
       "    </tr>\n",
       "    <tr>\n",
       "      <th>time</th>\n",
       "      <td>26</td>\n",
       "    </tr>\n",
       "    <tr>\n",
       "      <th>best</th>\n",
       "      <td>23</td>\n",
       "    </tr>\n",
       "    <tr>\n",
       "      <th>amp</th>\n",
       "      <td>22</td>\n",
       "    </tr>\n",
       "    <tr>\n",
       "      <th>help</th>\n",
       "      <td>22</td>\n",
       "    </tr>\n",
       "    <tr>\n",
       "      <th>watch</th>\n",
       "      <td>20</td>\n",
       "    </tr>\n",
       "    <tr>\n",
       "      <th>trailer</th>\n",
       "      <td>19</td>\n",
       "    </tr>\n",
       "    <tr>\n",
       "      <th>new</th>\n",
       "      <td>17</td>\n",
       "    </tr>\n",
       "    <tr>\n",
       "      <th>oscar</th>\n",
       "      <td>15</td>\n",
       "    </tr>\n",
       "    <tr>\n",
       "      <th>like</th>\n",
       "      <td>15</td>\n",
       "    </tr>\n",
       "    <tr>\n",
       "      <th>scene</th>\n",
       "      <td>15</td>\n",
       "    </tr>\n",
       "    <tr>\n",
       "      <th>online</th>\n",
       "      <td>14</td>\n",
       "    </tr>\n",
       "    <tr>\n",
       "      <th>day</th>\n",
       "      <td>14</td>\n",
       "    </tr>\n",
       "    <tr>\n",
       "      <th>review</th>\n",
       "      <td>14</td>\n",
       "    </tr>\n",
       "    <tr>\n",
       "      <th>year</th>\n",
       "      <td>13</td>\n",
       "    </tr>\n",
       "    <tr>\n",
       "      <th>kobe</th>\n",
       "      <td>13</td>\n",
       "    </tr>\n",
       "    <tr>\n",
       "      <th>netflix</th>\n",
       "      <td>12</td>\n",
       "    </tr>\n",
       "    <tr>\n",
       "      <th>bryant</th>\n",
       "      <td>11</td>\n",
       "    </tr>\n",
       "  </tbody>\n",
       "</table>\n",
       "</div>"
      ],
      "text/plain": [
       "         Frequency\n",
       "movie          153\n",
       "film            37\n",
       "wa              27\n",
       "time            26\n",
       "best            23\n",
       "amp             22\n",
       "help            22\n",
       "watch           20\n",
       "trailer         19\n",
       "new             17\n",
       "oscar           15\n",
       "like            15\n",
       "scene           15\n",
       "online          14\n",
       "day             14\n",
       "review          14\n",
       "year            13\n",
       "kobe            13\n",
       "netflix         12\n",
       "bryant          11"
      ]
     },
     "execution_count": 24,
     "metadata": {},
     "output_type": "execute_result"
    }
   ],
   "source": [
    "#looking at the top20 \n",
    "movies_wordcount_top20"
   ]
  },
  {
   "cell_type": "markdown",
   "metadata": {},
   "source": [
    "**INSIGHTS:** We were able to concluded that 'movie' is the most occurring single gram word. That is a vaild statement because subreddit 2 is all about that. In general, all of these words are what subreddit 2 is about. Also, it is interesting that the word 'wa' is up there as well as subreddit 1. Yet, there is another typo up there 'amp' and that might sway our model results. "
   ]
  },
  {
   "cell_type": "markdown",
   "metadata": {},
   "source": [
    "So, we were able to look at the top 20 frequently use single gram words for each dataframe, *yet!*, lets look further to get more evidence of the connection between both subreddits. So lets try looking at bigram words."
   ]
  },
  {
   "cell_type": "markdown",
   "metadata": {},
   "source": [
    "Lets create a function to find the most frequently bigram words use in each dataframe."
   ]
  },
  {
   "cell_type": "code",
   "execution_count": 25,
   "metadata": {},
   "outputs": [],
   "source": [
    "#lets create a function to find the similar words\n",
    "def word_counter_two(df):\n",
    "    \n",
    "    #Getting our text data in our dataframe and use the copy function so we will not miss up our dataframe\n",
    "    token = df.copy()\n",
    "    \n",
    "    #Instantiate tokenizer\n",
    "    tokenizer = RegexpTokenizer(r'[A-z]+')\n",
    "\n",
    "    #Run tokenizer, use join method to get our post to become lowercase\n",
    "    #Created with Noah C. \n",
    "    tokens = [\" \".join(tokenizer.tokenize(post.lower())) for post in token]\n",
    "    \n",
    "    #Instantiate lemmatizer\n",
    "    lemmatizer = WordNetLemmatizer()\n",
    "\n",
    "    #use the split method to split our posts and lemmatize individual words in each post \n",
    "    #Created with Noah C. \n",
    "    tokens_lem = [[lemmatizer.lemmatize(word) for word in post.split(' ')] for post in tokens]\n",
    "\n",
    "    #lemmatize tokens, use the join method to get our post to become lemmatize\n",
    "    #Created with Noah C.\n",
    "    lem_tokens = [\" \".join(post) for post in tokens_lem]\n",
    "    \n",
    "    #replace our text data with new lemmatize data\n",
    "    df = lem_tokens\n",
    "    \n",
    "    #Instantiate a CountVectorizer\n",
    "    cvec = CountVectorizer(stop_words = 'english',\n",
    "                            ngram_range = (2,2))#getting bigram words\n",
    "    #using the stop words parameter & setting it to english to eliminate a group of words\n",
    "    \n",
    "    #fit the vectorizer on our corpus\n",
    "    cvec.fit(df)\n",
    "    \n",
    "    #transform the corpus\n",
    "    title = cvec.transform(df)\n",
    "    \n",
    "    #convert df into a dataframe\n",
    "    df = pd.DataFrame(title.toarray(), #able to have strings into floats\n",
    "                          columns = cvec.get_feature_names()) #get feature row names\n",
    "\n",
    "    #Word counts \n",
    "    counts = df.sum().sort_values(ascending=False)\n",
    "    \n",
    "    return counts"
   ]
  },
  {
   "cell_type": "markdown",
   "metadata": {},
   "source": [
    "Lets implement this function on our two dataframes."
   ]
  },
  {
   "cell_type": "code",
   "execution_count": 26,
   "metadata": {},
   "outputs": [
    {
     "data": {
      "text/plain": [
       "just finished          15\n",
       "book read              12\n",
       "best book               8\n",
       "book ve                 7\n",
       "book recommendation     6\n",
       "                       ..\n",
       "petition sub            1\n",
       "philosophy best         1\n",
       "philosophy mind         1\n",
       "pick book               1\n",
       "abbe faria              1\n",
       "Length: 1983, dtype: int64"
      ]
     },
     "execution_count": 26,
     "metadata": {},
     "output_type": "execute_result"
    }
   ],
   "source": [
    "word_counter_two(subreddit_1['title'])"
   ]
  },
  {
   "cell_type": "code",
   "execution_count": 27,
   "metadata": {},
   "outputs": [
    {
     "data": {
      "text/plain": [
       "kobe bryant         11\n",
       "help finding         8\n",
       "favorite movie       6\n",
       "official trailer     6\n",
       "dear basketball      6\n",
       "                    ..\n",
       "pick benedict        1\n",
       "picked grammy        1\n",
       "picture category     1\n",
       "picture ha           1\n",
       "aaa title            1\n",
       "Length: 2242, dtype: int64"
      ]
     },
     "execution_count": 27,
     "metadata": {},
     "output_type": "execute_result"
    }
   ],
   "source": [
    "word_counter_two(subreddit_2['title'])"
   ]
  },
  {
   "cell_type": "markdown",
   "metadata": {},
   "source": [
    "Next, lets also look at this visually to understand it better, lets pick the 20 as before."
   ]
  },
  {
   "cell_type": "markdown",
   "metadata": {},
   "source": [
    "#### Bigram Words Visualizations"
   ]
  },
  {
   "cell_type": "markdown",
   "metadata": {},
   "source": [
    "*Subreddit 1: Books*"
   ]
  },
  {
   "cell_type": "code",
   "execution_count": 28,
   "metadata": {},
   "outputs": [],
   "source": [
    "#create a new dataframe for wordcount\n",
    "books_wordcount_two = pd.DataFrame(data = word_counter_two(subreddit_1['title']),#using the function above\n",
    "                               columns = [\"Frequency\"]) #calling the column frequency"
   ]
  },
  {
   "cell_type": "code",
   "execution_count": 29,
   "metadata": {},
   "outputs": [],
   "source": [
    "#creating a top20 variable from our dataframe\n",
    "books_wordcount_top20_two = books_wordcount_two.head(20)"
   ]
  },
  {
   "cell_type": "code",
   "execution_count": 30,
   "metadata": {},
   "outputs": [
    {
     "data": {
      "image/png": "[encoded data removed]",
      "text/plain": [
       "<Figure size 1080x504 with 1 Axes>"
      ]
     },
     "metadata": {
      "needs_background": "light"
     },
     "output_type": "display_data"
    }
   ],
   "source": [
    "#creating a barh graph for the wordcount dataframe \n",
    "\n",
    "#create a barh of our data\n",
    "books_wordcount_top20_two.sort_values(by = 'Frequency', #by the fequency column\n",
    "                                  ascending = True).plot(kind = 'barh', #barh type\n",
    "                                                         color = 'green', #color\n",
    "                                                         figsize = (15,7))#graph size\n",
    "\n",
    "plt.xlabel('Frequency', fontsize = 15)#xlabel on graph\n",
    "plt.ylabel('Words', fontsize = 15)#ylabel on graph \n",
    "plt.xticks(np.arange(0, 16, step = 1))#change the ticks on the x-axis\n",
    "\n",
    "plt.title(\"Top 20 Frequently Bigram Words in the Books Subreddit\", fontsize = 18); #title"
   ]
  },
  {
   "cell_type": "markdown",
   "metadata": {},
   "source": [
    "We observed that the bigram words in subreddit 1 are also spread out in the frequency scale."
   ]
  },
  {
   "cell_type": "markdown",
   "metadata": {},
   "source": [
    "Additionally, lets also create a table to clearly show what is happening."
   ]
  },
  {
   "cell_type": "code",
   "execution_count": 31,
   "metadata": {},
   "outputs": [
    {
     "data": {
      "text/html": [
       "<div>\n",
       "<style scoped>\n",
       "    .dataframe tbody tr th:only-of-type {\n",
       "        vertical-align: middle;\n",
       "    }\n",
       "\n",
       "    .dataframe tbody tr th {\n",
       "        vertical-align: top;\n",
       "    }\n",
       "\n",
       "    .dataframe thead th {\n",
       "        text-align: right;\n",
       "    }\n",
       "</style>\n",
       "<table border=\"1\" class=\"dataframe\">\n",
       "  <thead>\n",
       "    <tr style=\"text-align: right;\">\n",
       "      <th></th>\n",
       "      <th>Frequency</th>\n",
       "    </tr>\n",
       "  </thead>\n",
       "  <tbody>\n",
       "    <tr>\n",
       "      <th>just finished</th>\n",
       "      <td>15</td>\n",
       "    </tr>\n",
       "    <tr>\n",
       "      <th>book read</th>\n",
       "      <td>12</td>\n",
       "    </tr>\n",
       "    <tr>\n",
       "      <th>best book</th>\n",
       "      <td>8</td>\n",
       "    </tr>\n",
       "    <tr>\n",
       "      <th>book ve</th>\n",
       "      <td>7</td>\n",
       "    </tr>\n",
       "    <tr>\n",
       "      <th>book recommendation</th>\n",
       "      <td>6</td>\n",
       "    </tr>\n",
       "    <tr>\n",
       "      <th>need help</th>\n",
       "      <td>6</td>\n",
       "    </tr>\n",
       "    <tr>\n",
       "      <th>just read</th>\n",
       "      <td>6</td>\n",
       "    </tr>\n",
       "    <tr>\n",
       "      <th>stephen king</th>\n",
       "      <td>6</td>\n",
       "    </tr>\n",
       "    <tr>\n",
       "      <th>help finding</th>\n",
       "      <td>6</td>\n",
       "    </tr>\n",
       "    <tr>\n",
       "      <th>looking book</th>\n",
       "      <td>6</td>\n",
       "    </tr>\n",
       "    <tr>\n",
       "      <th>reading book</th>\n",
       "      <td>5</td>\n",
       "    </tr>\n",
       "    <tr>\n",
       "      <th>help book</th>\n",
       "      <td>5</td>\n",
       "    </tr>\n",
       "    <tr>\n",
       "      <th>american dirt</th>\n",
       "      <td>5</td>\n",
       "    </tr>\n",
       "    <tr>\n",
       "      <th>ve read</th>\n",
       "      <td>5</td>\n",
       "    </tr>\n",
       "    <tr>\n",
       "      <th>author used</th>\n",
       "      <td>4</td>\n",
       "    </tr>\n",
       "    <tr>\n",
       "      <th>harry potter</th>\n",
       "      <td>4</td>\n",
       "    </tr>\n",
       "    <tr>\n",
       "      <th>read book</th>\n",
       "      <td>4</td>\n",
       "    </tr>\n",
       "    <tr>\n",
       "      <th>finding book</th>\n",
       "      <td>4</td>\n",
       "    </tr>\n",
       "    <tr>\n",
       "      <th>library movie</th>\n",
       "      <td>4</td>\n",
       "    </tr>\n",
       "    <tr>\n",
       "      <th>count monte</th>\n",
       "      <td>4</td>\n",
       "    </tr>\n",
       "  </tbody>\n",
       "</table>\n",
       "</div>"
      ],
      "text/plain": [
       "                     Frequency\n",
       "just finished               15\n",
       "book read                   12\n",
       "best book                    8\n",
       "book ve                      7\n",
       "book recommendation          6\n",
       "need help                    6\n",
       "just read                    6\n",
       "stephen king                 6\n",
       "help finding                 6\n",
       "looking book                 6\n",
       "reading book                 5\n",
       "help book                    5\n",
       "american dirt                5\n",
       "ve read                      5\n",
       "author used                  4\n",
       "harry potter                 4\n",
       "read book                    4\n",
       "finding book                 4\n",
       "library movie                4\n",
       "count monte                  4"
      ]
     },
     "execution_count": 31,
     "metadata": {},
     "output_type": "execute_result"
    }
   ],
   "source": [
    "#looking at the top20 \n",
    "books_wordcount_top20_two"
   ]
  },
  {
   "cell_type": "markdown",
   "metadata": {},
   "source": [
    "**INSIGHTS:** We were able to concluded that 'just finished' was the most occurring bigram word. In general, again all of these words are what subreddit 1 is about. Also, it is interesting that there are more typos with the word 've' here. "
   ]
  },
  {
   "cell_type": "markdown",
   "metadata": {},
   "source": [
    "*Subreddit 2: Movies*"
   ]
  },
  {
   "cell_type": "code",
   "execution_count": 32,
   "metadata": {},
   "outputs": [],
   "source": [
    "#create a new dataframe for wordcount\n",
    "movies_wordcount_two = pd.DataFrame(data = word_counter_two(subreddit_2['title']),#using the function above\n",
    "                               columns = [\"Frequency\"]) #calling the column frequency"
   ]
  },
  {
   "cell_type": "code",
   "execution_count": 33,
   "metadata": {},
   "outputs": [],
   "source": [
    "#creating a top20 variable from our dataframe\n",
    "movies_wordcount_top20_two = movies_wordcount_two.head(20)"
   ]
  },
  {
   "cell_type": "code",
   "execution_count": 34,
   "metadata": {},
   "outputs": [
    {
     "data": {
      "image/png": "[encoded data removed]",
      "text/plain": [
       "<Figure size 1080x504 with 1 Axes>"
      ]
     },
     "metadata": {
      "needs_background": "light"
     },
     "output_type": "display_data"
    }
   ],
   "source": [
    "#creating a barh graph for the wordcount dataframe \n",
    "\n",
    "#create a barh of our data\n",
    "movies_wordcount_top20_two.sort_values(by = 'Frequency', #by the fequency column\n",
    "                                  ascending = True).plot(kind = 'barh', #barh type\n",
    "                                                         color = 'green', #color\n",
    "                                                         figsize = (15,7))#graph size\n",
    "\n",
    "plt.xlabel('Frequency', fontsize = 15)#xlabel on graph\n",
    "plt.ylabel('Words', fontsize = 15)#ylabel on graph \n",
    "plt.xticks(np.arange(0, 12, step = 1))#change the ticks on the x-axis\n",
    "\n",
    "plt.title(\"Top 20 Frequently Bigram Words in the Movies Subreddit\", fontsize = 18); #title"
   ]
  },
  {
   "cell_type": "markdown",
   "metadata": {},
   "source": [
    "We also observed that the bigram words in subreddit 2 are spread out in the frequency scale."
   ]
  },
  {
   "cell_type": "markdown",
   "metadata": {},
   "source": [
    "Additionally, lets also create a table to clearly show what is happening."
   ]
  },
  {
   "cell_type": "code",
   "execution_count": 35,
   "metadata": {},
   "outputs": [
    {
     "data": {
      "text/html": [
       "<div>\n",
       "<style scoped>\n",
       "    .dataframe tbody tr th:only-of-type {\n",
       "        vertical-align: middle;\n",
       "    }\n",
       "\n",
       "    .dataframe tbody tr th {\n",
       "        vertical-align: top;\n",
       "    }\n",
       "\n",
       "    .dataframe thead th {\n",
       "        text-align: right;\n",
       "    }\n",
       "</style>\n",
       "<table border=\"1\" class=\"dataframe\">\n",
       "  <thead>\n",
       "    <tr style=\"text-align: right;\">\n",
       "      <th></th>\n",
       "      <th>Frequency</th>\n",
       "    </tr>\n",
       "  </thead>\n",
       "  <tbody>\n",
       "    <tr>\n",
       "      <th>kobe bryant</th>\n",
       "      <td>11</td>\n",
       "    </tr>\n",
       "    <tr>\n",
       "      <th>help finding</th>\n",
       "      <td>8</td>\n",
       "    </tr>\n",
       "    <tr>\n",
       "      <th>favorite movie</th>\n",
       "      <td>6</td>\n",
       "    </tr>\n",
       "    <tr>\n",
       "      <th>official trailer</th>\n",
       "      <td>6</td>\n",
       "    </tr>\n",
       "    <tr>\n",
       "      <th>dear basketball</th>\n",
       "      <td>6</td>\n",
       "    </tr>\n",
       "    <tr>\n",
       "      <th>hindi dubbed</th>\n",
       "      <td>6</td>\n",
       "    </tr>\n",
       "    <tr>\n",
       "      <th>sundance review</th>\n",
       "      <td>5</td>\n",
       "    </tr>\n",
       "    <tr>\n",
       "      <th>need help</th>\n",
       "      <td>5</td>\n",
       "    </tr>\n",
       "    <tr>\n",
       "      <th>punch drunk</th>\n",
       "      <td>5</td>\n",
       "    </tr>\n",
       "    <tr>\n",
       "      <th>time hollywood</th>\n",
       "      <td>5</td>\n",
       "    </tr>\n",
       "    <tr>\n",
       "      <th>drunk critic</th>\n",
       "      <td>5</td>\n",
       "    </tr>\n",
       "    <tr>\n",
       "      <th>best picture</th>\n",
       "      <td>5</td>\n",
       "    </tr>\n",
       "    <tr>\n",
       "      <th>movie wa</th>\n",
       "      <td>4</td>\n",
       "    </tr>\n",
       "    <tr>\n",
       "      <th>opie cunningham</th>\n",
       "      <td>4</td>\n",
       "    </tr>\n",
       "    <tr>\n",
       "      <th>make hillbilly</th>\n",
       "      <td>4</td>\n",
       "    </tr>\n",
       "    <tr>\n",
       "      <th>horror movie</th>\n",
       "      <td>4</td>\n",
       "    </tr>\n",
       "    <tr>\n",
       "      <th>amp dvd</th>\n",
       "      <td>4</td>\n",
       "    </tr>\n",
       "    <tr>\n",
       "      <th>movie didn</th>\n",
       "      <td>4</td>\n",
       "    </tr>\n",
       "    <tr>\n",
       "      <th>ve seen</th>\n",
       "      <td>4</td>\n",
       "    </tr>\n",
       "    <tr>\n",
       "      <th>hillbilly elegy</th>\n",
       "      <td>4</td>\n",
       "    </tr>\n",
       "  </tbody>\n",
       "</table>\n",
       "</div>"
      ],
      "text/plain": [
       "                  Frequency\n",
       "kobe bryant              11\n",
       "help finding              8\n",
       "favorite movie            6\n",
       "official trailer          6\n",
       "dear basketball           6\n",
       "hindi dubbed              6\n",
       "sundance review           5\n",
       "need help                 5\n",
       "punch drunk               5\n",
       "time hollywood            5\n",
       "drunk critic              5\n",
       "best picture              5\n",
       "movie wa                  4\n",
       "opie cunningham           4\n",
       "make hillbilly            4\n",
       "horror movie              4\n",
       "amp dvd                   4\n",
       "movie didn                4\n",
       "ve seen                   4\n",
       "hillbilly elegy           4"
      ]
     },
     "execution_count": 35,
     "metadata": {},
     "output_type": "execute_result"
    }
   ],
   "source": [
    "#looking at the top20 \n",
    "movies_wordcount_top20_two"
   ]
  },
  {
   "cell_type": "markdown",
   "metadata": {},
   "source": [
    "**INSIGHTS:** We were also able to concluded that 'kobe bryant' is the most occurring bigram word. In general, again all of these words are what subreddit 2 is about. Also, it is interesting that there are more typos with the words 'wa', 'amp', and 've' here."
   ]
  },
  {
   "cell_type": "markdown",
   "metadata": {},
   "source": [
    "*So what was our results?* We do have some similar content when we use both single gram and bigram words. For instance, both dataframes explicitly have 'need help' and 'help finding' as occuring words in the data. However, both dataframes also implicitly have similar words. For example, 'library movies' and 'favorite movie' are similar because 'movies' are in both. Given that information, we can look for more similarities in both of our subreddit posts if we explore more NLP functions. We will explore this later on.\n",
    "\n",
    "Finally, lets look at the outliers in our datasets before we model our data. "
   ]
  },
  {
   "cell_type": "markdown",
   "metadata": {},
   "source": [
    "### Outliers"
   ]
  },
  {
   "cell_type": "markdown",
   "metadata": {},
   "source": [
    "We will determine an outlier as the text that our model cannot compute. This includes words from different languages besides English and emojis. Lets look at both of our datasets to determine where we will drop the outliers."
   ]
  },
  {
   "cell_type": "markdown",
   "metadata": {},
   "source": [
    "*Subreddit 1: Books*"
   ]
  },
  {
   "cell_type": "code",
   "execution_count": 36,
   "metadata": {},
   "outputs": [
    {
     "data": {
      "text/html": [
       "<div>\n",
       "<style scoped>\n",
       "    .dataframe tbody tr th:only-of-type {\n",
       "        vertical-align: middle;\n",
       "    }\n",
       "\n",
       "    .dataframe tbody tr th {\n",
       "        vertical-align: top;\n",
       "    }\n",
       "\n",
       "    .dataframe thead th {\n",
       "        text-align: right;\n",
       "    }\n",
       "</style>\n",
       "<table border=\"1\" class=\"dataframe\">\n",
       "  <thead>\n",
       "    <tr style=\"text-align: right;\">\n",
       "      <th></th>\n",
       "      <th>title</th>\n",
       "      <th>author</th>\n",
       "      <th>subreddit</th>\n",
       "    </tr>\n",
       "  </thead>\n",
       "  <tbody>\n",
       "    <tr>\n",
       "      <th>404</th>\n",
       "      <td>🙏🏽</td>\n",
       "      <td>OUSSBEATS</td>\n",
       "      <td>books</td>\n",
       "    </tr>\n",
       "    <tr>\n",
       "      <th>252</th>\n",
       "      <td>【歯型模型 3Dデータ化】歯科技工所にて、歯型模型を3Dにスキャニングする 青山一丁目の歯科...</td>\n",
       "      <td>nakamurabrown</td>\n",
       "      <td>books</td>\n",
       "    </tr>\n",
       "    <tr>\n",
       "      <th>243</th>\n",
       "      <td>【口腔内スキャナー ３Ｄプリンター】口腔内スキャナーによる診断と、３Ｄプリンターによる歯の模...</td>\n",
       "      <td>nakamurabrown</td>\n",
       "      <td>books</td>\n",
       "    </tr>\n",
       "    <tr>\n",
       "      <th>245</th>\n",
       "      <td>【ジルコニア セラミック 審美歯科】 審美歯科に不可欠なジルコニア 歯を機械で削り出す 青山...</td>\n",
       "      <td>nakamurabrown</td>\n",
       "      <td>books</td>\n",
       "    </tr>\n",
       "    <tr>\n",
       "      <th>291</th>\n",
       "      <td>“For me, reading stimulates all the senses. I ...</td>\n",
       "      <td>suckersalty</td>\n",
       "      <td>books</td>\n",
       "    </tr>\n",
       "  </tbody>\n",
       "</table>\n",
       "</div>"
      ],
      "text/plain": [
       "                                                 title         author  \\\n",
       "404                                                 🙏🏽      OUSSBEATS   \n",
       "252  【歯型模型 3Dデータ化】歯科技工所にて、歯型模型を3Dにスキャニングする 青山一丁目の歯科...  nakamurabrown   \n",
       "243  【口腔内スキャナー ３Ｄプリンター】口腔内スキャナーによる診断と、３Ｄプリンターによる歯の模...  nakamurabrown   \n",
       "245  【ジルコニア セラミック 審美歯科】 審美歯科に不可欠なジルコニア 歯を機械で削り出す 青山...  nakamurabrown   \n",
       "291  “For me, reading stimulates all the senses. I ...    suckersalty   \n",
       "\n",
       "    subreddit  \n",
       "404     books  \n",
       "252     books  \n",
       "243     books  \n",
       "245     books  \n",
       "291     books  "
      ]
     },
     "execution_count": 36,
     "metadata": {},
     "output_type": "execute_result"
    }
   ],
   "source": [
    "#determing where the outliers are by using sort values in subreddit 1\n",
    "subreddit_1.sort_values(by = 'title', ascending = False).head(5)"
   ]
  },
  {
   "cell_type": "markdown",
   "metadata": {},
   "source": [
    "We learned that there are four outliers. We will now drop these rows."
   ]
  },
  {
   "cell_type": "code",
   "execution_count": 37,
   "metadata": {},
   "outputs": [],
   "source": [
    "#dropping the outlier 1\n",
    "subreddit_1.drop(index = [404], inplace = True)"
   ]
  },
  {
   "cell_type": "code",
   "execution_count": 38,
   "metadata": {},
   "outputs": [],
   "source": [
    "#dropping the outlier 2\n",
    "subreddit_1.drop(index = [252], inplace = True)"
   ]
  },
  {
   "cell_type": "code",
   "execution_count": 39,
   "metadata": {},
   "outputs": [],
   "source": [
    "#dropping the outlier 3\n",
    "subreddit_1.drop(index = [243], inplace = True)"
   ]
  },
  {
   "cell_type": "code",
   "execution_count": 40,
   "metadata": {},
   "outputs": [],
   "source": [
    "#dropping the outlier 4\n",
    "subreddit_1.drop(index = [245], inplace = True)"
   ]
  },
  {
   "cell_type": "markdown",
   "metadata": {},
   "source": [
    "**Yet!** Looking through the whole dataset using [Pandas display](https://pandas.pydata.org/pandas-docs/stable/user_guide/options.html), we were able to identify six more rows to drop. "
   ]
  },
  {
   "cell_type": "code",
   "execution_count": 41,
   "metadata": {},
   "outputs": [
    {
     "name": "stdout",
     "output_type": "stream",
     "text": [
      "title        کتاب هایی که قبل از مرگ باید بخوانید - موسسه ا...\n",
      "author                                               shahreseo\n",
      "subreddit                                                books\n",
      "Name: 51, dtype: object\n",
      "---\n",
      "title        Bogus /ˈbəʊɡəs/\n",
      "author           rahulroy510\n",
      "subreddit              books\n",
      "Name: 85, dtype: object\n",
      "---\n",
      "title        كايرو جيت الشيخ زايد اعمار مصر | 01009547123 |...\n",
      "author                                                mostshrk\n",
      "subreddit                                                books\n",
      "Name: 181, dtype: object\n",
      "---\n",
      "title        YA suggestions?❤️\n",
      "author                    slm4\n",
      "subreddit                books\n",
      "Name: 225, dtype: object\n",
      "---\n",
      "title        Ummmm, who wants to be the one to tell them? 🤭\n",
      "author                                         paranoid_365\n",
      "subreddit                                             books\n",
      "Name: 304, dtype: object\n",
      "---\n",
      "title        Ramanichandran tamil novel|சொர்க்கத்திலே முடிவ...\n",
      "author                                             ramyasadish\n",
      "subreddit                                                books\n",
      "Name: 481, dtype: object\n"
     ]
    }
   ],
   "source": [
    "#looking for row\n",
    "print(subreddit_1.loc[51])\n",
    "print('---')\n",
    "print(subreddit_1.loc[85])\n",
    "print('---')\n",
    "print(subreddit_1.loc[181])\n",
    "print('---')\n",
    "print(subreddit_1.loc[225])\n",
    "print('---')\n",
    "print(subreddit_1.loc[304])\n",
    "print('---')\n",
    "print(subreddit_1.loc[481])"
   ]
  },
  {
   "cell_type": "markdown",
   "metadata": {},
   "source": [
    "Lets drop these rows."
   ]
  },
  {
   "cell_type": "code",
   "execution_count": 42,
   "metadata": {},
   "outputs": [],
   "source": [
    "#dropping the outlier 5\n",
    "subreddit_1.drop(index = [51], inplace = True)"
   ]
  },
  {
   "cell_type": "code",
   "execution_count": 43,
   "metadata": {},
   "outputs": [],
   "source": [
    "#dropping the outlier 6\n",
    "subreddit_1.drop(index = [85], inplace = True)"
   ]
  },
  {
   "cell_type": "code",
   "execution_count": 44,
   "metadata": {},
   "outputs": [],
   "source": [
    "#dropping the outlier 7\n",
    "subreddit_1.drop(index = [181], inplace = True)"
   ]
  },
  {
   "cell_type": "code",
   "execution_count": 45,
   "metadata": {},
   "outputs": [],
   "source": [
    "#dropping the outlier 8\n",
    "subreddit_1.drop(index = [225], inplace = True)"
   ]
  },
  {
   "cell_type": "code",
   "execution_count": 46,
   "metadata": {},
   "outputs": [],
   "source": [
    "#dropping the outlier 9\n",
    "subreddit_1.drop(index = [304], inplace = True)"
   ]
  },
  {
   "cell_type": "code",
   "execution_count": 47,
   "metadata": {},
   "outputs": [],
   "source": [
    "#dropping the outlier 10\n",
    "subreddit_1.drop(index = [481], inplace = True)"
   ]
  },
  {
   "cell_type": "markdown",
   "metadata": {},
   "source": [
    "Now lets check the shape of our dataframe."
   ]
  },
  {
   "cell_type": "code",
   "execution_count": 48,
   "metadata": {},
   "outputs": [
    {
     "data": {
      "text/plain": [
       "(482, 3)"
      ]
     },
     "execution_count": 48,
     "metadata": {},
     "output_type": "execute_result"
    }
   ],
   "source": [
    "#check the shape\n",
    "subreddit_1.shape"
   ]
  },
  {
   "cell_type": "markdown",
   "metadata": {},
   "source": [
    "All of the outliers have been dropped in subreddit 1 because we had 492 rows before."
   ]
  },
  {
   "cell_type": "markdown",
   "metadata": {},
   "source": [
    "*Subreddit 2: Moviess*"
   ]
  },
  {
   "cell_type": "code",
   "execution_count": 49,
   "metadata": {},
   "outputs": [
    {
     "data": {
      "text/html": [
       "<div>\n",
       "<style scoped>\n",
       "    .dataframe tbody tr th:only-of-type {\n",
       "        vertical-align: middle;\n",
       "    }\n",
       "\n",
       "    .dataframe tbody tr th {\n",
       "        vertical-align: top;\n",
       "    }\n",
       "\n",
       "    .dataframe thead th {\n",
       "        text-align: right;\n",
       "    }\n",
       "</style>\n",
       "<table border=\"1\" class=\"dataframe\">\n",
       "  <thead>\n",
       "    <tr style=\"text-align: right;\">\n",
       "      <th></th>\n",
       "      <th>title</th>\n",
       "      <th>author</th>\n",
       "      <th>subreddit</th>\n",
       "    </tr>\n",
       "  </thead>\n",
       "  <tbody>\n",
       "    <tr>\n",
       "      <th>192</th>\n",
       "      <td>🔥커플 다른그림을 찾아라! spot the difference Couple</td>\n",
       "      <td>PICTUREPUZZLE1</td>\n",
       "      <td>movies</td>\n",
       "    </tr>\n",
       "    <tr>\n",
       "      <th>327</th>\n",
       "      <td>“Us”</td>\n",
       "      <td>JackkkTaylorrr</td>\n",
       "      <td>movies</td>\n",
       "    </tr>\n",
       "    <tr>\n",
       "      <th>336</th>\n",
       "      <td>“Twenty Twenty-Four” (2016) - Wha-a-a?</td>\n",
       "      <td>JustOneTamal</td>\n",
       "      <td>movies</td>\n",
       "    </tr>\n",
       "    <tr>\n",
       "      <th>70</th>\n",
       "      <td>‘Wendy’ Review: Behn Zeitlin’s Vibrant ‘Peter ...</td>\n",
       "      <td>Onesimplywill</td>\n",
       "      <td>movies</td>\n",
       "    </tr>\n",
       "    <tr>\n",
       "      <th>334</th>\n",
       "      <td>‘Uncut Gems’ Directors Almost Cast Kobe Bryant...</td>\n",
       "      <td>TheSonsofBatman</td>\n",
       "      <td>movies</td>\n",
       "    </tr>\n",
       "  </tbody>\n",
       "</table>\n",
       "</div>"
      ],
      "text/plain": [
       "                                                 title           author  \\\n",
       "192          🔥커플 다른그림을 찾아라! spot the difference Couple   PICTUREPUZZLE1   \n",
       "327                                               “Us”   JackkkTaylorrr   \n",
       "336             “Twenty Twenty-Four” (2016) - Wha-a-a?     JustOneTamal   \n",
       "70   ‘Wendy’ Review: Behn Zeitlin’s Vibrant ‘Peter ...    Onesimplywill   \n",
       "334  ‘Uncut Gems’ Directors Almost Cast Kobe Bryant...  TheSonsofBatman   \n",
       "\n",
       "    subreddit  \n",
       "192    movies  \n",
       "327    movies  \n",
       "336    movies  \n",
       "70     movies  \n",
       "334    movies  "
      ]
     },
     "execution_count": 49,
     "metadata": {},
     "output_type": "execute_result"
    }
   ],
   "source": [
    "#determing where the outliers are by using sort values in subreddit 2\n",
    "subreddit_2.sort_values(by = 'title', ascending = False).head(5)"
   ]
  },
  {
   "cell_type": "markdown",
   "metadata": {},
   "source": [
    "We learned that there is one outlier. We will now drop this row."
   ]
  },
  {
   "cell_type": "code",
   "execution_count": 50,
   "metadata": {},
   "outputs": [],
   "source": [
    "#dropping the outlier 1\n",
    "subreddit_2.drop(index = [192], inplace = True)"
   ]
  },
  {
   "cell_type": "markdown",
   "metadata": {},
   "source": [
    "**Yet!** Looking through the whole dataset using [Pandas display](https://pandas.pydata.org/pandas-docs/stable/user_guide/options.html), we were able to identify four more rows to drop."
   ]
  },
  {
   "cell_type": "code",
   "execution_count": 51,
   "metadata": {},
   "outputs": [
    {
     "name": "stdout",
     "output_type": "stream",
     "text": [
      "title        Разбивающая сердца / Heartbeat Сериал (2016) с...\n",
      "author                                               LUBIMCHIK\n",
      "subreddit                                               movies\n",
      "Name: 47, dtype: object\n",
      "---\n",
      "title        Удивительные Люди, Умные Навыки и Супер Способ...\n",
      "author                                               Sterligov\n",
      "subreddit                                               movies\n",
      "Name: 85, dtype: object\n",
      "---\n",
      "title        बेस्ट बैलेंस्ड फंड्स- Best Balanced Fund 2018-...\n",
      "author                                             topstenclub\n",
      "subreddit                                               movies\n",
      "Name: 87, dtype: object\n",
      "---\n",
      "title        Then this happened 😲\n",
      "author                     op4321\n",
      "subreddit                  movies\n",
      "Name: 457, dtype: object\n"
     ]
    }
   ],
   "source": [
    "#looking for row\n",
    "print(subreddit_2.loc[47])\n",
    "print('---')\n",
    "print(subreddit_2.loc[85])\n",
    "print('---')\n",
    "print(subreddit_2.loc[87])\n",
    "print('---')\n",
    "print(subreddit_2.loc[457])"
   ]
  },
  {
   "cell_type": "markdown",
   "metadata": {},
   "source": [
    "Lets drop these rows."
   ]
  },
  {
   "cell_type": "code",
   "execution_count": 52,
   "metadata": {},
   "outputs": [],
   "source": [
    "#dropping the outlier 5\n",
    "subreddit_2.drop(index = [47], inplace = True)"
   ]
  },
  {
   "cell_type": "code",
   "execution_count": 53,
   "metadata": {},
   "outputs": [],
   "source": [
    "#dropping the outlier 6\n",
    "subreddit_2.drop(index = [85], inplace = True)"
   ]
  },
  {
   "cell_type": "code",
   "execution_count": 54,
   "metadata": {},
   "outputs": [],
   "source": [
    "#dropping the outlier 7\n",
    "subreddit_2.drop(index = [87], inplace = True)"
   ]
  },
  {
   "cell_type": "code",
   "execution_count": 55,
   "metadata": {},
   "outputs": [],
   "source": [
    "#dropping the outlier 8\n",
    "subreddit_2.drop(index = [457], inplace = True)"
   ]
  },
  {
   "cell_type": "markdown",
   "metadata": {},
   "source": [
    "Lets check the shape of our dataframe."
   ]
  },
  {
   "cell_type": "code",
   "execution_count": 56,
   "metadata": {},
   "outputs": [
    {
     "data": {
      "text/plain": [
       "(470, 3)"
      ]
     },
     "execution_count": 56,
     "metadata": {},
     "output_type": "execute_result"
    }
   ],
   "source": [
    "#check the shape\n",
    "subreddit_2.shape"
   ]
  },
  {
   "cell_type": "markdown",
   "metadata": {},
   "source": [
    "All of the outliers also have been dropped in subreddit 2 because we had 475 before."
   ]
  },
  {
   "cell_type": "markdown",
   "metadata": {},
   "source": [
    "In both of our datasets, we now have our outliers dropped. In sum, looking through our EDA, we were able to determine that we can move onto modeling. Yet, we will need to do some preprocessing first!"
   ]
  },
  {
   "cell_type": "markdown",
   "metadata": {},
   "source": [
    "## Preprocessing"
   ]
  },
  {
   "cell_type": "markdown",
   "metadata": {},
   "source": [
    "Before we start modeling, we will need to do some preparation. We first need to mergre both of our datasets together. Then, we need to do addtional NLP prepocessing on our merged dataset to detemine if we want to use it in our modeling. Then, we can create our X feature and y. Then, we should detemine the baseline. Lastly, do our train-test split on our X fetaure and y. "
   ]
  },
  {
   "cell_type": "markdown",
   "metadata": {},
   "source": [
    "### Merge Datasets"
   ]
  },
  {
   "cell_type": "markdown",
   "metadata": {},
   "source": [
    "To build our model, we will need to merge our two datasets together to have one final dataset. We will only use the title and subreddit features because our author feature does not have enough content. As a result, our title feature will be our X fetaure and the subreddit feature will be our y target variable. \n",
    "\n",
    "Lets drop the author feature before we megre our datasets. Then, map our subreddit feature to a binary classifier. Lastly, we should save our clean dataset for future use. "
   ]
  },
  {
   "cell_type": "markdown",
   "metadata": {},
   "source": [
    "*Subreddit 1: Books*"
   ]
  },
  {
   "cell_type": "code",
   "execution_count": 57,
   "metadata": {},
   "outputs": [],
   "source": [
    "#dropping the author feature in subreddit 1\n",
    "subreddit_1.drop(['author'], axis = 1, inplace = True)"
   ]
  },
  {
   "cell_type": "code",
   "execution_count": 58,
   "metadata": {},
   "outputs": [
    {
     "data": {
      "text/plain": [
       "(482, 2)"
      ]
     },
     "execution_count": 58,
     "metadata": {},
     "output_type": "execute_result"
    }
   ],
   "source": [
    "#check the shape\n",
    "subreddit_1.shape"
   ]
  },
  {
   "cell_type": "markdown",
   "metadata": {},
   "source": [
    "We had successfully drop the author feature in subreddit 1."
   ]
  },
  {
   "cell_type": "markdown",
   "metadata": {},
   "source": [
    "*Subreddit 2: Books*"
   ]
  },
  {
   "cell_type": "code",
   "execution_count": 59,
   "metadata": {},
   "outputs": [],
   "source": [
    "#dropping the author feature in subreddit 2\n",
    "subreddit_2.drop(['author'], axis = 1, inplace = True)"
   ]
  },
  {
   "cell_type": "code",
   "execution_count": 60,
   "metadata": {},
   "outputs": [
    {
     "data": {
      "text/plain": [
       "(470, 2)"
      ]
     },
     "execution_count": 60,
     "metadata": {},
     "output_type": "execute_result"
    }
   ],
   "source": [
    "#check the shape\n",
    "subreddit_2.shape"
   ]
  },
  {
   "cell_type": "markdown",
   "metadata": {},
   "source": [
    "We had successfully drop the author feature in subreddit 2."
   ]
  },
  {
   "cell_type": "markdown",
   "metadata": {},
   "source": [
    "Lets merge our datasets"
   ]
  },
  {
   "cell_type": "code",
   "execution_count": 61,
   "metadata": {},
   "outputs": [],
   "source": [
    "#Merge datasets together \n",
    "subreddits_titles = pd.concat([subreddit_1, subreddit_2], ignore_index = True)"
   ]
  },
  {
   "cell_type": "code",
   "execution_count": 62,
   "metadata": {},
   "outputs": [
    {
     "data": {
      "text/plain": [
       "books     482\n",
       "movies    470\n",
       "Name: subreddit, dtype: int64"
      ]
     },
     "execution_count": 62,
     "metadata": {},
     "output_type": "execute_result"
    }
   ],
   "source": [
    "#making sure it worked\n",
    "subreddits_titles['subreddit'].value_counts()"
   ]
  },
  {
   "cell_type": "code",
   "execution_count": 63,
   "metadata": {
    "scrolled": true
   },
   "outputs": [
    {
     "data": {
      "text/plain": [
       "(952, 2)"
      ]
     },
     "execution_count": 63,
     "metadata": {},
     "output_type": "execute_result"
    }
   ],
   "source": [
    "#check the shape\n",
    "subreddits_titles.shape"
   ]
  },
  {
   "cell_type": "code",
   "execution_count": 64,
   "metadata": {},
   "outputs": [
    {
     "data": {
      "text/html": [
       "<div>\n",
       "<style scoped>\n",
       "    .dataframe tbody tr th:only-of-type {\n",
       "        vertical-align: middle;\n",
       "    }\n",
       "\n",
       "    .dataframe tbody tr th {\n",
       "        vertical-align: top;\n",
       "    }\n",
       "\n",
       "    .dataframe thead th {\n",
       "        text-align: right;\n",
       "    }\n",
       "</style>\n",
       "<table border=\"1\" class=\"dataframe\">\n",
       "  <thead>\n",
       "    <tr style=\"text-align: right;\">\n",
       "      <th></th>\n",
       "      <th>title</th>\n",
       "      <th>subreddit</th>\n",
       "    </tr>\n",
       "  </thead>\n",
       "  <tbody>\n",
       "    <tr>\n",
       "      <th>0</th>\n",
       "      <td>Book Suggestions for my husband and I to read ...</td>\n",
       "      <td>books</td>\n",
       "    </tr>\n",
       "    <tr>\n",
       "      <th>1</th>\n",
       "      <td>The one where Friends spoils Little Women</td>\n",
       "      <td>books</td>\n",
       "    </tr>\n",
       "    <tr>\n",
       "      <th>2</th>\n",
       "      <td>The must-read works of the late, great Jim Har...</td>\n",
       "      <td>books</td>\n",
       "    </tr>\n",
       "    <tr>\n",
       "      <th>3</th>\n",
       "      <td>Margaret Atwood to publish first collection of...</td>\n",
       "      <td>books</td>\n",
       "    </tr>\n",
       "    <tr>\n",
       "      <th>4</th>\n",
       "      <td>One Man’s Impossible Quest to Read—and Review—...</td>\n",
       "      <td>books</td>\n",
       "    </tr>\n",
       "  </tbody>\n",
       "</table>\n",
       "</div>"
      ],
      "text/plain": [
       "                                               title subreddit\n",
       "0  Book Suggestions for my husband and I to read ...     books\n",
       "1          The one where Friends spoils Little Women     books\n",
       "2  The must-read works of the late, great Jim Har...     books\n",
       "3  Margaret Atwood to publish first collection of...     books\n",
       "4  One Man’s Impossible Quest to Read—and Review—...     books"
      ]
     },
     "execution_count": 64,
     "metadata": {},
     "output_type": "execute_result"
    }
   ],
   "source": [
    "#lets see it visually\n",
    "subreddits_titles.head()"
   ]
  },
  {
   "cell_type": "markdown",
   "metadata": {},
   "source": [
    "We successfully merged our datasets together. Next, lets map our target variable. "
   ]
  },
  {
   "cell_type": "markdown",
   "metadata": {},
   "source": [
    "#### Mapping the y Variable"
   ]
  },
  {
   "cell_type": "markdown",
   "metadata": {},
   "source": [
    "We need to change our target variable to a binary classifier because we need to be able to model it as a classification model. "
   ]
  },
  {
   "cell_type": "code",
   "execution_count": 65,
   "metadata": {},
   "outputs": [],
   "source": [
    "#Using the replace method to fix target values in the subreddits_titles data set\n",
    "subreddits_titles['subreddit'].replace({'books': 1, 'movies': 0}, inplace = True)"
   ]
  },
  {
   "cell_type": "code",
   "execution_count": 66,
   "metadata": {},
   "outputs": [
    {
     "data": {
      "text/plain": [
       "1    482\n",
       "0    470\n",
       "Name: subreddit, dtype: int64"
      ]
     },
     "execution_count": 66,
     "metadata": {},
     "output_type": "execute_result"
    }
   ],
   "source": [
    "#making sure it worked\n",
    "subreddits_titles['subreddit'].value_counts()"
   ]
  },
  {
   "cell_type": "markdown",
   "metadata": {},
   "source": [
    "Our target variable has been successfully changed."
   ]
  },
  {
   "cell_type": "markdown",
   "metadata": {},
   "source": [
    "Lastly, lets store our clean final dataset."
   ]
  },
  {
   "cell_type": "markdown",
   "metadata": {},
   "source": [
    "#### Saved Combined Dataset"
   ]
  },
  {
   "cell_type": "code",
   "execution_count": 67,
   "metadata": {},
   "outputs": [],
   "source": [
    "#Here is what we will like to save it as\n",
    "#index = false for no index column\n",
    "subreddits_titles.to_csv('../datasets/subreddits_titles.csv', index = False)"
   ]
  },
  {
   "cell_type": "markdown",
   "metadata": {},
   "source": [
    "Now that we should do some more NLP preprocessing to determine if we want to use it in our model."
   ]
  },
  {
   "cell_type": "markdown",
   "metadata": {},
   "source": [
    "### NLP Preprocessing"
   ]
  },
  {
   "cell_type": "markdown",
   "metadata": {},
   "source": [
    "When dealing with text data, there are common pre-processing steps. We will tokenize, lemmatize, and stem. We will also use stopwords to clean up our text data. Finally, we can use two of these functions and use the results to model. We will either pick lemmatization and stopwords or stemming and stopwords."
   ]
  },
  {
   "cell_type": "markdown",
   "metadata": {},
   "source": [
    "Lets create our text data and call it token."
   ]
  },
  {
   "cell_type": "code",
   "execution_count": 68,
   "metadata": {},
   "outputs": [],
   "source": [
    "#getting our text data and using the copy method to unchange our dataframe feature \n",
    "token = subreddits_titles['title'].copy()"
   ]
  },
  {
   "cell_type": "markdown",
   "metadata": {},
   "source": [
    "#### Lemmatization"
   ]
  },
  {
   "cell_type": "markdown",
   "metadata": {},
   "source": [
    "When we lemmatize our text data, we take words in the data and attempt to return their base form of that word. Before we lemmatize, we need to tokenize our data. In other words, we will split up our data into distinct chunks based on a pattern of our choosing. "
   ]
  },
  {
   "cell_type": "code",
   "execution_count": 69,
   "metadata": {},
   "outputs": [],
   "source": [
    "#Instantiate tokenizer\n",
    "tokenizer = RegexpTokenizer(r'[A-z]+') #using the [A-z] pattern"
   ]
  },
  {
   "cell_type": "code",
   "execution_count": 70,
   "metadata": {},
   "outputs": [],
   "source": [
    "#Run tokenizer, use join method to get our post to become lowercase\n",
    "#Created with Noah C. \n",
    "tokens = [\" \".join(tokenizer.tokenize(post.lower())) for post in token]"
   ]
  },
  {
   "cell_type": "code",
   "execution_count": 71,
   "metadata": {},
   "outputs": [
    {
     "data": {
      "text/plain": [
       "['book suggestions for my husband and i to read together in month',\n",
       " 'the one where friends spoils little women']"
      ]
     },
     "execution_count": 71,
     "metadata": {},
     "output_type": "execute_result"
    }
   ],
   "source": [
    "#see if it worked\n",
    "tokens[:2]"
   ]
  },
  {
   "cell_type": "markdown",
   "metadata": {},
   "source": [
    "Now we can use lemmatization. "
   ]
  },
  {
   "cell_type": "code",
   "execution_count": 72,
   "metadata": {},
   "outputs": [],
   "source": [
    "#Instantiate lemmatizer\n",
    "lemmatizer = WordNetLemmatizer()"
   ]
  },
  {
   "cell_type": "code",
   "execution_count": 73,
   "metadata": {},
   "outputs": [],
   "source": [
    "#use the split method to split our posts and lemmatize individual words in each post \n",
    "#Created with Noah C. \n",
    "tokens_lem = [[lemmatizer.lemmatize(word) for word in post.split(' ')] for post in tokens]"
   ]
  },
  {
   "cell_type": "code",
   "execution_count": 74,
   "metadata": {},
   "outputs": [
    {
     "data": {
      "text/plain": [
       "[('book suggestions for my husband and i to read together in month',\n",
       "  ['book',\n",
       "   'suggestion',\n",
       "   'for',\n",
       "   'my',\n",
       "   'husband',\n",
       "   'and',\n",
       "   'i',\n",
       "   'to',\n",
       "   'read',\n",
       "   'together',\n",
       "   'in',\n",
       "   'month']),\n",
       " ('the one where friends spoils little women',\n",
       "  ['the', 'one', 'where', 'friend', 'spoil', 'little', 'woman'])]"
      ]
     },
     "execution_count": 74,
     "metadata": {},
     "output_type": "execute_result"
    }
   ],
   "source": [
    "#to see the differences between tokens and lemmatize tokens \n",
    "list(zip(tokens, tokens_lem))[:2]"
   ]
  },
  {
   "cell_type": "code",
   "execution_count": 75,
   "metadata": {},
   "outputs": [],
   "source": [
    "#lemmatize tokens, use the join method to get our post to become lemmatize\n",
    "#Created with Noah C.\n",
    "lem_tokens = [\" \".join(post) for post in tokens_lem]"
   ]
  },
  {
   "cell_type": "markdown",
   "metadata": {},
   "source": [
    "Next, we use CountVectorizer to transform the lists of the cleaned posts into features that we can pass into a model."
   ]
  },
  {
   "cell_type": "code",
   "execution_count": 76,
   "metadata": {},
   "outputs": [],
   "source": [
    "#Instantiate CountVectorizer\n",
    "cvec = CountVectorizer()"
   ]
  },
  {
   "cell_type": "code",
   "execution_count": 77,
   "metadata": {},
   "outputs": [],
   "source": [
    "#fit lemmatize features \n",
    "cvec.fit_transform(lem_tokens);"
   ]
  },
  {
   "cell_type": "code",
   "execution_count": 78,
   "metadata": {},
   "outputs": [],
   "source": [
    "#Get feature names\n",
    "vocab_lemma = cvec.get_feature_names()"
   ]
  },
  {
   "cell_type": "code",
   "execution_count": 79,
   "metadata": {},
   "outputs": [],
   "source": [
    "#create a new dataframe with our data lemmatize\n",
    "vocab_lemma_df = pd.DataFrame(vocab_lemma)"
   ]
  },
  {
   "cell_type": "code",
   "execution_count": 80,
   "metadata": {},
   "outputs": [
    {
     "data": {
      "text/html": [
       "<div>\n",
       "<style scoped>\n",
       "    .dataframe tbody tr th:only-of-type {\n",
       "        vertical-align: middle;\n",
       "    }\n",
       "\n",
       "    .dataframe tbody tr th {\n",
       "        vertical-align: top;\n",
       "    }\n",
       "\n",
       "    .dataframe thead th {\n",
       "        text-align: right;\n",
       "    }\n",
       "</style>\n",
       "<table border=\"1\" class=\"dataframe\">\n",
       "  <thead>\n",
       "    <tr style=\"text-align: right;\">\n",
       "      <th></th>\n",
       "      <th>0</th>\n",
       "    </tr>\n",
       "  </thead>\n",
       "  <tbody>\n",
       "    <tr>\n",
       "      <th>0</th>\n",
       "      <td>aaa</td>\n",
       "    </tr>\n",
       "    <tr>\n",
       "      <th>1</th>\n",
       "      <td>aamir</td>\n",
       "    </tr>\n",
       "    <tr>\n",
       "      <th>2</th>\n",
       "      <td>abai</td>\n",
       "    </tr>\n",
       "    <tr>\n",
       "      <th>3</th>\n",
       "      <td>abbe</td>\n",
       "    </tr>\n",
       "    <tr>\n",
       "      <th>4</th>\n",
       "      <td>able</td>\n",
       "    </tr>\n",
       "  </tbody>\n",
       "</table>\n",
       "</div>"
      ],
      "text/plain": [
       "       0\n",
       "0    aaa\n",
       "1  aamir\n",
       "2   abai\n",
       "3   abbe\n",
       "4   able"
      ]
     },
     "execution_count": 80,
     "metadata": {},
     "output_type": "execute_result"
    }
   ],
   "source": [
    "#checking to see if it worked \n",
    "vocab_lemma_df.head()"
   ]
  },
  {
   "cell_type": "markdown",
   "metadata": {},
   "source": [
    "We were able to lemmatize our X feature. Next, we can stem X feature and it is very similar to lemmatization, but, it is a bit cruder.  "
   ]
  },
  {
   "cell_type": "markdown",
   "metadata": {},
   "source": [
    "#### Stemming"
   ]
  },
  {
   "cell_type": "markdown",
   "metadata": {},
   "source": [
    "Again, when we stem our text data, we take words in the data and attempt to return their base form of that word. Also, before we stem, we need to tokenize our data. "
   ]
  },
  {
   "cell_type": "code",
   "execution_count": 81,
   "metadata": {},
   "outputs": [],
   "source": [
    "#Instantiate object of class PorterStemmer.\n",
    "p_stemmer = PorterStemmer()"
   ]
  },
  {
   "cell_type": "code",
   "execution_count": 82,
   "metadata": {},
   "outputs": [],
   "source": [
    "#Stem tokens, use the split method to split our posts and stem individual words in each post \n",
    "#Created with Noah C.\n",
    "tokens_stem = [[p_stemmer.stem(word) for word in post.split(' ')] for post in tokens]"
   ]
  },
  {
   "cell_type": "code",
   "execution_count": 83,
   "metadata": {},
   "outputs": [
    {
     "data": {
      "text/plain": [
       "[('book suggestions for my husband and i to read together in month',\n",
       "  ['book',\n",
       "   'suggest',\n",
       "   'for',\n",
       "   'my',\n",
       "   'husband',\n",
       "   'and',\n",
       "   'i',\n",
       "   'to',\n",
       "   'read',\n",
       "   'togeth',\n",
       "   'in',\n",
       "   'month']),\n",
       " ('the one where friends spoils little women',\n",
       "  ['the', 'one', 'where', 'friend', 'spoil', 'littl', 'women'])]"
      ]
     },
     "execution_count": 83,
     "metadata": {},
     "output_type": "execute_result"
    }
   ],
   "source": [
    "#show the differences between tokens and stemmed tokens \n",
    "list(zip(tokens, tokens_stem))[:2]"
   ]
  },
  {
   "cell_type": "code",
   "execution_count": 84,
   "metadata": {},
   "outputs": [],
   "source": [
    "#stemmed tokens, use the join method to get our post to become stemmed\n",
    "#Created with Noah C.\n",
    "stemmed_tokens = [\" \".join(post) for post in tokens_stem]"
   ]
  },
  {
   "cell_type": "markdown",
   "metadata": {},
   "source": [
    "Again, we can also CountVectorizer."
   ]
  },
  {
   "cell_type": "code",
   "execution_count": 85,
   "metadata": {},
   "outputs": [],
   "source": [
    "#Instantiate CountVectorizer\n",
    "cvec = CountVectorizer()"
   ]
  },
  {
   "cell_type": "code",
   "execution_count": 86,
   "metadata": {},
   "outputs": [],
   "source": [
    "#fit stem features \n",
    "cvec.fit_transform(stemmed_tokens);"
   ]
  },
  {
   "cell_type": "code",
   "execution_count": 87,
   "metadata": {},
   "outputs": [],
   "source": [
    "#Get feature names\n",
    "vocab_stemmed = cvec.get_feature_names()"
   ]
  },
  {
   "cell_type": "code",
   "execution_count": 88,
   "metadata": {},
   "outputs": [],
   "source": [
    "#create a new dataframe with our data lemmatize\n",
    "vocab_stemmed_df = pd.DataFrame(vocab_stemmed)"
   ]
  },
  {
   "cell_type": "code",
   "execution_count": 89,
   "metadata": {},
   "outputs": [
    {
     "data": {
      "text/html": [
       "<div>\n",
       "<style scoped>\n",
       "    .dataframe tbody tr th:only-of-type {\n",
       "        vertical-align: middle;\n",
       "    }\n",
       "\n",
       "    .dataframe tbody tr th {\n",
       "        vertical-align: top;\n",
       "    }\n",
       "\n",
       "    .dataframe thead th {\n",
       "        text-align: right;\n",
       "    }\n",
       "</style>\n",
       "<table border=\"1\" class=\"dataframe\">\n",
       "  <thead>\n",
       "    <tr style=\"text-align: right;\">\n",
       "      <th></th>\n",
       "      <th>0</th>\n",
       "    </tr>\n",
       "  </thead>\n",
       "  <tbody>\n",
       "    <tr>\n",
       "      <th>0</th>\n",
       "      <td>aaa</td>\n",
       "    </tr>\n",
       "    <tr>\n",
       "      <th>1</th>\n",
       "      <td>aamir</td>\n",
       "    </tr>\n",
       "    <tr>\n",
       "      <th>2</th>\n",
       "      <td>abai</td>\n",
       "    </tr>\n",
       "    <tr>\n",
       "      <th>3</th>\n",
       "      <td>abb</td>\n",
       "    </tr>\n",
       "    <tr>\n",
       "      <th>4</th>\n",
       "      <td>abl</td>\n",
       "    </tr>\n",
       "  </tbody>\n",
       "</table>\n",
       "</div>"
      ],
      "text/plain": [
       "       0\n",
       "0    aaa\n",
       "1  aamir\n",
       "2   abai\n",
       "3    abb\n",
       "4    abl"
      ]
     },
     "execution_count": 89,
     "metadata": {},
     "output_type": "execute_result"
    }
   ],
   "source": [
    "#check to see if it worked \n",
    "vocab_stemmed_df.head()"
   ]
  },
  {
   "cell_type": "markdown",
   "metadata": {},
   "source": [
    "We were able to stem our X feature."
   ]
  },
  {
   "cell_type": "markdown",
   "metadata": {},
   "source": [
    "Thus, we observed that stemming is better than lemmatization because we are able to get the clear root word in our dataset. For instance, in lemmatization we get the word \"suggestion\" and in stemming we get the word \"suggest\". We decided to use the stemming function for our model.  \n",
    "\n",
    "Finally, we can determine our stop words that will not be included into our model."
   ]
  },
  {
   "cell_type": "markdown",
   "metadata": {},
   "source": [
    "#### Stopwords"
   ]
  },
  {
   "cell_type": "markdown",
   "metadata": {},
   "source": [
    "Stopwords are very common words that are often removed because they amount to unnecessary information and removing them can dramatically speed things up in our modeling. \n",
    "From this [source](https://stackoverflow.com/questions/33245567/stopword-removal-with-nltk-and-pandas), we were able to show our model without the stopwords. "
   ]
  },
  {
   "cell_type": "code",
   "execution_count": 90,
   "metadata": {},
   "outputs": [],
   "source": [
    "#english stopwords are the common stop words in english\n",
    "stop = stopwords.words('english')"
   ]
  },
  {
   "cell_type": "code",
   "execution_count": 91,
   "metadata": {},
   "outputs": [],
   "source": [
    "#lets create another copy of our dataframe so it will not effect our modeling\n",
    "copy_st = subreddits_titles.copy()"
   ]
  },
  {
   "cell_type": "code",
   "execution_count": 92,
   "metadata": {},
   "outputs": [],
   "source": [
    "#changing our title feature to a lower case and split the posts into indvidual words\n",
    "copy_st['title'] = copy_st['title'].str.lower().str.split()  "
   ]
  },
  {
   "cell_type": "code",
   "execution_count": 93,
   "metadata": {},
   "outputs": [
    {
     "data": {
      "text/plain": [
       "['the', 'must-read', 'works', 'of', 'the', 'late,', 'great', 'jim', 'harrison']"
      ]
     },
     "execution_count": 93,
     "metadata": {},
     "output_type": "execute_result"
    }
   ],
   "source": [
    "#see if it worked\n",
    "copy_st['title'][2]"
   ]
  },
  {
   "cell_type": "code",
   "execution_count": 94,
   "metadata": {},
   "outputs": [],
   "source": [
    "#Checking if each word is either a stopword or not, if then drop word, if not keep word\n",
    "using_stop_words = copy_st['title'].apply(lambda post: [word for word in post if word not in stop])"
   ]
  },
  {
   "cell_type": "code",
   "execution_count": 95,
   "metadata": {},
   "outputs": [],
   "source": [
    "#creating a dataframe with stopwords gone\n",
    "using_stop_words_df = pd.DataFrame(using_stop_words)"
   ]
  },
  {
   "cell_type": "code",
   "execution_count": 96,
   "metadata": {},
   "outputs": [
    {
     "data": {
      "text/html": [
       "<div>\n",
       "<style scoped>\n",
       "    .dataframe tbody tr th:only-of-type {\n",
       "        vertical-align: middle;\n",
       "    }\n",
       "\n",
       "    .dataframe tbody tr th {\n",
       "        vertical-align: top;\n",
       "    }\n",
       "\n",
       "    .dataframe thead th {\n",
       "        text-align: right;\n",
       "    }\n",
       "</style>\n",
       "<table border=\"1\" class=\"dataframe\">\n",
       "  <thead>\n",
       "    <tr style=\"text-align: right;\">\n",
       "      <th></th>\n",
       "      <th>title</th>\n",
       "    </tr>\n",
       "  </thead>\n",
       "  <tbody>\n",
       "    <tr>\n",
       "      <th>0</th>\n",
       "      <td>[book, suggestions, husband, read, together, 1...</td>\n",
       "    </tr>\n",
       "    <tr>\n",
       "      <th>1</th>\n",
       "      <td>[one, friends, spoils, little, women]</td>\n",
       "    </tr>\n",
       "    <tr>\n",
       "      <th>2</th>\n",
       "      <td>[must-read, works, late,, great, jim, harrison]</td>\n",
       "    </tr>\n",
       "    <tr>\n",
       "      <th>3</th>\n",
       "      <td>[margaret, atwood, publish, first, collection,...</td>\n",
       "    </tr>\n",
       "    <tr>\n",
       "      <th>4</th>\n",
       "      <td>[one, man’s, impossible, quest, read—and, revi...</td>\n",
       "    </tr>\n",
       "  </tbody>\n",
       "</table>\n",
       "</div>"
      ],
      "text/plain": [
       "                                               title\n",
       "0  [book, suggestions, husband, read, together, 1...\n",
       "1              [one, friends, spoils, little, women]\n",
       "2    [must-read, works, late,, great, jim, harrison]\n",
       "3  [margaret, atwood, publish, first, collection,...\n",
       "4  [one, man’s, impossible, quest, read—and, revi..."
      ]
     },
     "execution_count": 96,
     "metadata": {},
     "output_type": "execute_result"
    }
   ],
   "source": [
    "#check to see if it worked\n",
    "using_stop_words_df.head()"
   ]
  },
  {
   "cell_type": "markdown",
   "metadata": {},
   "source": [
    "We were able to determine our stopwords our X feature."
   ]
  },
  {
   "cell_type": "markdown",
   "metadata": {},
   "source": [
    "After exploring each of the NLP functions, we will use stemming and stopwords for our model. "
   ]
  },
  {
   "cell_type": "markdown",
   "metadata": {},
   "source": [
    "#### Outcomes from NLP Preprocessing"
   ]
  },
  {
   "cell_type": "markdown",
   "metadata": {},
   "source": [
    "Lets create our stemmed X feature for our model."
   ]
  },
  {
   "cell_type": "code",
   "execution_count": 97,
   "metadata": {},
   "outputs": [],
   "source": [
    "#Getting our text data in our dataframe\n",
    "token_model = subreddits_titles['title']"
   ]
  },
  {
   "cell_type": "code",
   "execution_count": 98,
   "metadata": {},
   "outputs": [],
   "source": [
    "#Instantiate tokenizer\n",
    "tokenizer_model = RegexpTokenizer(r'[A-z]+')"
   ]
  },
  {
   "cell_type": "code",
   "execution_count": 99,
   "metadata": {},
   "outputs": [],
   "source": [
    "#Run tokenizer, use join method to get our post to become lowercase\n",
    "#Created with Noah C. \n",
    "tokens_model = [\" \".join(tokenizer_model.tokenize(post.lower())) for post in token_model]"
   ]
  },
  {
   "cell_type": "code",
   "execution_count": 100,
   "metadata": {},
   "outputs": [],
   "source": [
    "#Instantiate object of class PorterStemmer.\n",
    "p_stemmer_model = PorterStemmer()"
   ]
  },
  {
   "cell_type": "code",
   "execution_count": 101,
   "metadata": {},
   "outputs": [],
   "source": [
    "#Stem tokens, use the split method to split our posts and stem individual words in each post \n",
    "#Created with Noah C.\n",
    "tokens_stem_model = [[p_stemmer_model.stem(word) for word in post.split(' ')] for post in tokens_model]"
   ]
  },
  {
   "cell_type": "code",
   "execution_count": 102,
   "metadata": {},
   "outputs": [],
   "source": [
    "#stemmed tokens, use the join method to get our post to become stemmed\n",
    "#Created with Noah C.\n",
    "stemmed_tokens_model = [\" \".join(post) for post in tokens_stem_model]"
   ]
  },
  {
   "cell_type": "code",
   "execution_count": 103,
   "metadata": {},
   "outputs": [],
   "source": [
    "#replace our text data with new stemmed data\n",
    "subreddits_titles['title'] = stemmed_tokens_model"
   ]
  },
  {
   "cell_type": "code",
   "execution_count": 104,
   "metadata": {},
   "outputs": [
    {
     "data": {
      "text/html": [
       "<div>\n",
       "<style scoped>\n",
       "    .dataframe tbody tr th:only-of-type {\n",
       "        vertical-align: middle;\n",
       "    }\n",
       "\n",
       "    .dataframe tbody tr th {\n",
       "        vertical-align: top;\n",
       "    }\n",
       "\n",
       "    .dataframe thead th {\n",
       "        text-align: right;\n",
       "    }\n",
       "</style>\n",
       "<table border=\"1\" class=\"dataframe\">\n",
       "  <thead>\n",
       "    <tr style=\"text-align: right;\">\n",
       "      <th></th>\n",
       "      <th>title</th>\n",
       "      <th>subreddit</th>\n",
       "    </tr>\n",
       "  </thead>\n",
       "  <tbody>\n",
       "    <tr>\n",
       "      <th>0</th>\n",
       "      <td>book suggest for my husband and i to read toge...</td>\n",
       "      <td>1</td>\n",
       "    </tr>\n",
       "    <tr>\n",
       "      <th>1</th>\n",
       "      <td>the one where friend spoil littl women</td>\n",
       "      <td>1</td>\n",
       "    </tr>\n",
       "    <tr>\n",
       "      <th>2</th>\n",
       "      <td>the must read work of the late great jim harrison</td>\n",
       "      <td>1</td>\n",
       "    </tr>\n",
       "    <tr>\n",
       "      <th>3</th>\n",
       "      <td>margaret atwood to publish first collect of po...</td>\n",
       "      <td>1</td>\n",
       "    </tr>\n",
       "    <tr>\n",
       "      <th>4</th>\n",
       "      <td>one man s imposs quest to read and review the ...</td>\n",
       "      <td>1</td>\n",
       "    </tr>\n",
       "    <tr>\n",
       "      <th>5</th>\n",
       "      <td>harri potter and the vanish editor</td>\n",
       "      <td>1</td>\n",
       "    </tr>\n",
       "    <tr>\n",
       "      <th>6</th>\n",
       "      <td>we ll be read note from the underground by dos...</td>\n",
       "      <td>1</td>\n",
       "    </tr>\n",
       "    <tr>\n",
       "      <th>7</th>\n",
       "      <td>anybodi have experi with the count of mont cri...</td>\n",
       "      <td>1</td>\n",
       "    </tr>\n",
       "    <tr>\n",
       "      <th>8</th>\n",
       "      <td>can i gush about my favorit chapbook pleas</td>\n",
       "      <td>1</td>\n",
       "    </tr>\n",
       "    <tr>\n",
       "      <th>9</th>\n",
       "      <td>woh baat jin se hum samajht hai ki wazu toot j...</td>\n",
       "      <td>1</td>\n",
       "    </tr>\n",
       "    <tr>\n",
       "      <th>10</th>\n",
       "      <td>of those writer and thinker who dwelt on the s...</td>\n",
       "      <td>1</td>\n",
       "    </tr>\n",
       "    <tr>\n",
       "      <th>11</th>\n",
       "      <td>found a strang book at an antiqu shop write in...</td>\n",
       "      <td>1</td>\n",
       "    </tr>\n",
       "    <tr>\n",
       "      <th>12</th>\n",
       "      <td>texa firefram review is it worth it</td>\n",
       "      <td>1</td>\n",
       "    </tr>\n",
       "    <tr>\n",
       "      <th>13</th>\n",
       "      <td>which book to read base on your mood</td>\n",
       "      <td>1</td>\n",
       "    </tr>\n",
       "    <tr>\n",
       "      <th>14</th>\n",
       "      <td>racism</td>\n",
       "      <td>1</td>\n",
       "    </tr>\n",
       "    <tr>\n",
       "      <th>15</th>\n",
       "      <td>life and fate vs stalingrad by vasili grossman</td>\n",
       "      <td>1</td>\n",
       "    </tr>\n",
       "    <tr>\n",
       "      <th>16</th>\n",
       "      <td>great nutrit lead to a high level of health an...</td>\n",
       "      <td>1</td>\n",
       "    </tr>\n",
       "    <tr>\n",
       "      <th>17</th>\n",
       "      <td>what novel or biographi had most fed your pers...</td>\n",
       "      <td>1</td>\n",
       "    </tr>\n",
       "    <tr>\n",
       "      <th>18</th>\n",
       "      <td>book review shadow strike insid israel s secre...</td>\n",
       "      <td>1</td>\n",
       "    </tr>\n",
       "    <tr>\n",
       "      <th>19</th>\n",
       "      <td>i just read and experienc ego death</td>\n",
       "      <td>1</td>\n",
       "    </tr>\n",
       "    <tr>\n",
       "      <th>20</th>\n",
       "      <td>short book recommend page or less</td>\n",
       "      <td>1</td>\n",
       "    </tr>\n",
       "    <tr>\n",
       "      <th>21</th>\n",
       "      <td>look for advic</td>\n",
       "      <td>1</td>\n",
       "    </tr>\n",
       "    <tr>\n",
       "      <th>22</th>\n",
       "      <td>ha anybodi read the book call awkward by ty ta...</td>\n",
       "      <td>1</td>\n",
       "    </tr>\n",
       "    <tr>\n",
       "      <th>23</th>\n",
       "      <td>is my favorit book and i m look for similar novel</td>\n",
       "      <td>1</td>\n",
       "    </tr>\n",
       "    <tr>\n",
       "      <th>24</th>\n",
       "      <td>the most love and hate classic novel accord to...</td>\n",
       "      <td>1</td>\n",
       "    </tr>\n",
       "    <tr>\n",
       "      <th>25</th>\n",
       "      <td>if you ever don t feel like you can read anyth...</td>\n",
       "      <td>1</td>\n",
       "    </tr>\n",
       "    <tr>\n",
       "      <th>26</th>\n",
       "      <td>we re all familiar with gimmick in film long t...</td>\n",
       "      <td>1</td>\n",
       "    </tr>\n",
       "    <tr>\n",
       "      <th>27</th>\n",
       "      <td>behind close door my experi</td>\n",
       "      <td>1</td>\n",
       "    </tr>\n",
       "    <tr>\n",
       "      <th>28</th>\n",
       "      <td>we re all familiar with gimmick in film long t...</td>\n",
       "      <td>1</td>\n",
       "    </tr>\n",
       "    <tr>\n",
       "      <th>29</th>\n",
       "      <td>composit rigour joseph heller s organis chart ...</td>\n",
       "      <td>1</td>\n",
       "    </tr>\n",
       "  </tbody>\n",
       "</table>\n",
       "</div>"
      ],
      "text/plain": [
       "                                                title  subreddit\n",
       "0   book suggest for my husband and i to read toge...          1\n",
       "1              the one where friend spoil littl women          1\n",
       "2   the must read work of the late great jim harrison          1\n",
       "3   margaret atwood to publish first collect of po...          1\n",
       "4   one man s imposs quest to read and review the ...          1\n",
       "5                  harri potter and the vanish editor          1\n",
       "6   we ll be read note from the underground by dos...          1\n",
       "7   anybodi have experi with the count of mont cri...          1\n",
       "8          can i gush about my favorit chapbook pleas          1\n",
       "9   woh baat jin se hum samajht hai ki wazu toot j...          1\n",
       "10  of those writer and thinker who dwelt on the s...          1\n",
       "11  found a strang book at an antiqu shop write in...          1\n",
       "12                texa firefram review is it worth it          1\n",
       "13               which book to read base on your mood          1\n",
       "14                                             racism          1\n",
       "15     life and fate vs stalingrad by vasili grossman          1\n",
       "16  great nutrit lead to a high level of health an...          1\n",
       "17  what novel or biographi had most fed your pers...          1\n",
       "18  book review shadow strike insid israel s secre...          1\n",
       "19                i just read and experienc ego death          1\n",
       "20                  short book recommend page or less          1\n",
       "21                                     look for advic          1\n",
       "22  ha anybodi read the book call awkward by ty ta...          1\n",
       "23  is my favorit book and i m look for similar novel          1\n",
       "24  the most love and hate classic novel accord to...          1\n",
       "25  if you ever don t feel like you can read anyth...          1\n",
       "26  we re all familiar with gimmick in film long t...          1\n",
       "27                        behind close door my experi          1\n",
       "28  we re all familiar with gimmick in film long t...          1\n",
       "29  composit rigour joseph heller s organis chart ...          1"
      ]
     },
     "execution_count": 104,
     "metadata": {},
     "output_type": "execute_result"
    }
   ],
   "source": [
    "#check to see if it worked\n",
    "subreddits_titles.head(30)"
   ]
  },
  {
   "cell_type": "markdown",
   "metadata": {},
   "source": [
    "We were able to create our stemmed X feature that we are going to be using in our model.\n",
    "\n",
    "Next, lets state our X feature and target variable."
   ]
  },
  {
   "cell_type": "markdown",
   "metadata": {},
   "source": [
    "### Creating X feature and y"
   ]
  },
  {
   "cell_type": "markdown",
   "metadata": {},
   "source": [
    "Create our feature matrix (X) and target vector (y):"
   ]
  },
  {
   "cell_type": "code",
   "execution_count": 105,
   "metadata": {},
   "outputs": [],
   "source": [
    "X = subreddits_titles['title']\n",
    "y = subreddits_titles['subreddit']"
   ]
  },
  {
   "cell_type": "markdown",
   "metadata": {},
   "source": [
    "Now lets use train-test split on our X and y."
   ]
  },
  {
   "cell_type": "markdown",
   "metadata": {},
   "source": [
    "### Train-test Split"
   ]
  },
  {
   "cell_type": "code",
   "execution_count": 106,
   "metadata": {},
   "outputs": [],
   "source": [
    "X_train, X_test, y_train, y_test = train_test_split(X,\n",
    "                                                    y,\n",
    "                                                    test_size=0.33,\n",
    "                                                    stratify=y,\n",
    "                                                    random_state=42)"
   ]
  },
  {
   "cell_type": "code",
   "execution_count": 107,
   "metadata": {},
   "outputs": [
    {
     "data": {
      "text/plain": [
       "482             gold jewelleri manufactur in jaipur\n",
       "275    audiobook surviv by lisandra pereira prologu\n",
       "80                    i just start infinit jest and\n",
       "40                          weekli calendar januari\n",
       "415                                i am number seri\n",
       "Name: title, dtype: object"
      ]
     },
     "execution_count": 107,
     "metadata": {},
     "output_type": "execute_result"
    }
   ],
   "source": [
    "#check to see if it worked \n",
    "X_train.head()"
   ]
  },
  {
   "cell_type": "markdown",
   "metadata": {},
   "source": [
    "Finally, we can determine our baseline score."
   ]
  },
  {
   "cell_type": "markdown",
   "metadata": {},
   "source": [
    "### Determing the Baseline Score"
   ]
  },
  {
   "cell_type": "markdown",
   "metadata": {},
   "source": [
    "The baseline score is actually an accuracy score. It is the percentage of the majority class, regardless of whether our y is 1 or 0. It will serve as the benchmark for our classification models to beat."
   ]
  },
  {
   "cell_type": "code",
   "execution_count": 108,
   "metadata": {},
   "outputs": [
    {
     "data": {
      "text/plain": [
       "1    0.504762\n",
       "0    0.495238\n",
       "Name: subreddit, dtype: float64"
      ]
     },
     "execution_count": 108,
     "metadata": {},
     "output_type": "execute_result"
    }
   ],
   "source": [
    "y_test.value_counts(normalize = True)"
   ]
  },
  {
   "cell_type": "markdown",
   "metadata": {},
   "source": [
    "The majority class end up being r/Books = 1 because this subreddit has more posts included in y. Therefore, our baseline accuracy is about 0.505. And each time we see a post, it is predicted to be r/Books."
   ]
  },
  {
   "cell_type": "markdown",
   "metadata": {},
   "source": [
    "Hence, we finished our preprocessing and now we can model. "
   ]
  },
  {
   "cell_type": "markdown",
   "metadata": {},
   "source": [
    "## Modeling"
   ]
  },
  {
   "cell_type": "markdown",
   "metadata": {},
   "source": [
    "We are going to be modeling four different classification models to determine how accurate it is towards our problem statement with it's accuracy score. We will model: Logistic Regression, Bernoulli Naive Bayes, Bagged Decision Tree, and Random Forest. \n",
    "\n",
    "For Logistic Regression and Bernoulli Naive Bayes, we will use TfidfVectorizer as a transformer. TfidfVectorizer is another classification model that penalizes words in our dataset that are common across all posts in the corpus. \n",
    "\n",
    "We also need to determine parameters for Logistic Regression and Random Forest models. A parameter sets the conditions of its models. \n",
    "\n",
    "Additionally, we wil need to transform our Logistic Regression and Random Forest models to GridSearchCV model. GridSearchCV helps us tune our parameters.\n",
    "\n",
    "Then we will supplement each model with there repected confusion matrix. Based on the confusion matrix, we will be able to determine what was correctly classified and misclassified. This is important because it determines the second half of our problem statement. In other words, we want to see if each model can correctly classify where each post came from in the dataset."
   ]
  },
  {
   "cell_type": "markdown",
   "metadata": {},
   "source": [
    "### Logistic Regression Model"
   ]
  },
  {
   "cell_type": "markdown",
   "metadata": {},
   "source": [
    "Logistic regression is the most common binary classification algorithm. The goal of our logistic regression model is to describe the relationship between our binary outcome which is our target variable and an independent variable which is our X feature. \n",
    "\n",
    "We will begin by instantiating a pipeline with TfidfVectorizer and LogisticRegression. Then, we will determine our parameters for our pipeline. Then, we will transform our model to a GridSearchCV. Then, we will fit our training dataset. Finally, we will able to get our training and testing accuracy scores. \n",
    "\n",
    "\n",
    "For our supplemental piece, we will create a confusion matrix. "
   ]
  },
  {
   "cell_type": "markdown",
   "metadata": {},
   "source": [
    "*Instantiatie Pipeline with TfidfVectorizer() & LogisticRegression()*"
   ]
  },
  {
   "cell_type": "code",
   "execution_count": 109,
   "metadata": {},
   "outputs": [],
   "source": [
    "pipe = Pipeline([\n",
    "    ('vectorizer', TfidfVectorizer()), \n",
    "    ('lr', LogisticRegression(solver = 'liblinear', #making sure we have our slover as liblinear\n",
    "                              random_state = 42))#creating the random state as 42\n",
    "])"
   ]
  },
  {
   "cell_type": "markdown",
   "metadata": {},
   "source": [
    "*Using the .get_params attribute, we were able to get the parameters for this pipeline*"
   ]
  },
  {
   "cell_type": "code",
   "execution_count": 110,
   "metadata": {},
   "outputs": [],
   "source": [
    "#got our parameters by trial and error\n",
    "pipe_params = {\n",
    "    'vectorizer__max_features': [1000, 2500, 5000], #include the 𝑁 most popular vocabulary words in the corpus\n",
    "    'vectorizer__ngram_range': [(1,1), (1,2)],#capture 𝑛 -word phrases\n",
    "    \"vectorizer__norm\":         ['l1', 'l2'],#using Lasso and Ridge \n",
    "    \"vectorizer__stop_words\":   ['english'],#taking away the english stopwords\n",
    "    'lr__penalty':              ['l1', 'l2'],#using Lasso and Ridge \n",
    "    'lr__C':                    [2.0],#Inverse of regularization strength\n",
    "    \n",
    "}"
   ]
  },
  {
   "cell_type": "markdown",
   "metadata": {},
   "source": [
    "*Transform to GridSearchCV*"
   ]
  },
  {
   "cell_type": "code",
   "execution_count": 111,
   "metadata": {},
   "outputs": [],
   "source": [
    "gs = GridSearchCV(pipe, #use the data which is pipe\n",
    "                  param_grid = pipe_params, #using our custom parameters\n",
    "                  cv = 5)#cv 5 times"
   ]
  },
  {
   "cell_type": "markdown",
   "metadata": {},
   "source": [
    "*Fit the model*"
   ]
  },
  {
   "cell_type": "code",
   "execution_count": 112,
   "metadata": {},
   "outputs": [
    {
     "name": "stderr",
     "output_type": "stream",
     "text": [
      "/Users/daisymatos25/opt/anaconda3/lib/python3.7/site-packages/sklearn/svm/base.py:929: ConvergenceWarning: Liblinear failed to converge, increase the number of iterations.\n",
      "  \"the number of iterations.\", ConvergenceWarning)\n",
      "/Users/daisymatos25/opt/anaconda3/lib/python3.7/site-packages/sklearn/svm/base.py:929: ConvergenceWarning: Liblinear failed to converge, increase the number of iterations.\n",
      "  \"the number of iterations.\", ConvergenceWarning)\n",
      "/Users/daisymatos25/opt/anaconda3/lib/python3.7/site-packages/sklearn/model_selection/_search.py:814: DeprecationWarning: The default of the `iid` parameter will change from True to False in version 0.22 and will be removed in 0.24. This will change numeric results when test-set sizes are unequal.\n",
      "  DeprecationWarning)\n"
     ]
    }
   ],
   "source": [
    "gs.fit(X_train, y_train);"
   ]
  },
  {
   "cell_type": "markdown",
   "metadata": {},
   "source": [
    "*Obtaining the best estimator and parameters*"
   ]
  },
  {
   "cell_type": "code",
   "execution_count": 113,
   "metadata": {},
   "outputs": [
    {
     "name": "stdout",
     "output_type": "stream",
     "text": [
      "0.8398744113029827\n"
     ]
    },
    {
     "data": {
      "text/plain": [
       "{'lr__C': 2.0,\n",
       " 'lr__penalty': 'l2',\n",
       " 'vectorizer__max_features': 5000,\n",
       " 'vectorizer__ngram_range': (1, 2),\n",
       " 'vectorizer__norm': 'l2',\n",
       " 'vectorizer__stop_words': 'english'}"
      ]
     },
     "execution_count": 113,
     "metadata": {},
     "output_type": "execute_result"
    }
   ],
   "source": [
    "print(gs.best_score_) \n",
    "gs.best_params_"
   ]
  },
  {
   "cell_type": "markdown",
   "metadata": {},
   "source": [
    "The best model estimator is about 0.840."
   ]
  },
  {
   "cell_type": "code",
   "execution_count": 114,
   "metadata": {},
   "outputs": [],
   "source": [
    "#Save best model as gs_model.\n",
    "gs_model = gs.best_estimator_"
   ]
  },
  {
   "cell_type": "markdown",
   "metadata": {},
   "source": [
    "*Accuracy training score*"
   ]
  },
  {
   "cell_type": "code",
   "execution_count": 115,
   "metadata": {},
   "outputs": [
    {
     "data": {
      "text/plain": [
       "0.9968602825745683"
      ]
     },
     "execution_count": 115,
     "metadata": {},
     "output_type": "execute_result"
    }
   ],
   "source": [
    "gs_model.score(X_train, y_train)"
   ]
  },
  {
   "cell_type": "markdown",
   "metadata": {},
   "source": [
    "The accuracy score on our training data set is about 0.997."
   ]
  },
  {
   "cell_type": "markdown",
   "metadata": {},
   "source": [
    "*Accuracy testing score*"
   ]
  },
  {
   "cell_type": "code",
   "execution_count": 116,
   "metadata": {},
   "outputs": [
    {
     "data": {
      "text/plain": [
       "0.8158730158730159"
      ]
     },
     "execution_count": 116,
     "metadata": {},
     "output_type": "execute_result"
    }
   ],
   "source": [
    "gs_model.score(X_test, y_test)"
   ]
  },
  {
   "cell_type": "markdown",
   "metadata": {},
   "source": [
    "The accuracy score on our testing data set is about 0.816."
   ]
  },
  {
   "cell_type": "markdown",
   "metadata": {},
   "source": [
    "Next, lets create our confusion matrix."
   ]
  },
  {
   "cell_type": "markdown",
   "metadata": {},
   "source": [
    "#### LR: Confusion Matrix"
   ]
  },
  {
   "cell_type": "markdown",
   "metadata": {},
   "source": [
    "The confusion matrix we will create our true values and predicted values."
   ]
  },
  {
   "cell_type": "markdown",
   "metadata": {},
   "source": [
    "*Getting our testing predictions*"
   ]
  },
  {
   "cell_type": "code",
   "execution_count": 117,
   "metadata": {},
   "outputs": [],
   "source": [
    "preds_test = gs.predict(X_test)"
   ]
  },
  {
   "cell_type": "markdown",
   "metadata": {},
   "source": [
    "*Creating our matrix*"
   ]
  },
  {
   "cell_type": "code",
   "execution_count": 118,
   "metadata": {},
   "outputs": [],
   "source": [
    "cm = confusion_matrix(y_test, # True values.\n",
    "                 preds_test)  # Predicted values."
   ]
  },
  {
   "cell_type": "markdown",
   "metadata": {},
   "source": [
    "*Creating a dataframe for our matrix*"
   ]
  },
  {
   "cell_type": "code",
   "execution_count": 119,
   "metadata": {},
   "outputs": [
    {
     "data": {
      "text/html": [
       "<div>\n",
       "<style scoped>\n",
       "    .dataframe tbody tr th:only-of-type {\n",
       "        vertical-align: middle;\n",
       "    }\n",
       "\n",
       "    .dataframe tbody tr th {\n",
       "        vertical-align: top;\n",
       "    }\n",
       "\n",
       "    .dataframe thead th {\n",
       "        text-align: right;\n",
       "    }\n",
       "</style>\n",
       "<table border=\"1\" class=\"dataframe\">\n",
       "  <thead>\n",
       "    <tr style=\"text-align: right;\">\n",
       "      <th></th>\n",
       "      <th>Predicted Books</th>\n",
       "      <th>Predicted Moives</th>\n",
       "    </tr>\n",
       "  </thead>\n",
       "  <tbody>\n",
       "    <tr>\n",
       "      <th>Actual Books</th>\n",
       "      <td>136</td>\n",
       "      <td>20</td>\n",
       "    </tr>\n",
       "    <tr>\n",
       "      <th>Actual Movies</th>\n",
       "      <td>38</td>\n",
       "      <td>121</td>\n",
       "    </tr>\n",
       "  </tbody>\n",
       "</table>\n",
       "</div>"
      ],
      "text/plain": [
       "               Predicted Books  Predicted Moives\n",
       "Actual Books               136                20\n",
       "Actual Movies               38               121"
      ]
     },
     "execution_count": 119,
     "metadata": {},
     "output_type": "execute_result"
    }
   ],
   "source": [
    "#create a data frame for cm\n",
    "pd.DataFrame(data = cm, \n",
    "             columns = ['Predicted Books', 'Predicted Moives'],\n",
    "             index = ['Actual Books', 'Actual Movies'])"
   ]
  },
  {
   "cell_type": "markdown",
   "metadata": {},
   "source": [
    "Based on the confusion matrix, we was able to determine that out of 315 posts, 136 + 121 = 257 posts were correctly classified and 38 + 20 = 58 posts were misclassified. "
   ]
  },
  {
   "cell_type": "markdown",
   "metadata": {},
   "source": [
    "Finally, lets move on to our interpreataion."
   ]
  },
  {
   "cell_type": "markdown",
   "metadata": {},
   "source": [
    "#### LR: Interpretation "
   ]
  },
  {
   "cell_type": "markdown",
   "metadata": {},
   "source": [
    "**Metrics:** \n",
    "\n",
    "- The training accuracy score is about 99.7 percent.\n",
    "- The testing accuracy score is about 82 percent. \n",
    "- The correctly classified posts is 257.  \n",
    "- The misclassified posts is 58. "
   ]
  },
  {
   "cell_type": "markdown",
   "metadata": {},
   "source": [
    "**Successes:** The training accuracy score is extremely well with our training dataset. The RMSE of our training data has tiny amounts of residuals away from our target variable. Therefore, base on our testing accuracy score, this model will be able to fit well with unknown data if we still use these two subreddit sites. "
   ]
  },
  {
   "cell_type": "markdown",
   "metadata": {},
   "source": [
    "**Downfalls:** The testing accuracy score fits less with our training data. And the RMSE of our testing data has more residuals away from our target variable."
   ]
  },
  {
   "cell_type": "markdown",
   "metadata": {},
   "source": [
    "**Overfit or Underfit:** This model is overfit because of low bias and high variance. "
   ]
  },
  {
   "cell_type": "markdown",
   "metadata": {},
   "source": [
    "**Suggestions:** We can add other features to reduce the high variance or we could Instantiate the PolynomialFeatures to decrease the overfitting. "
   ]
  },
  {
   "cell_type": "markdown",
   "metadata": {},
   "source": [
    "**Connect to the real world:** Intuitively getting more correctly classified posts than misclassified posts is valid because the r/books subreddit had more selftext text content than the r/movies subreddit. In other words, we had to drop a lot of the r/movies posts. "
   ]
  },
  {
   "cell_type": "markdown",
   "metadata": {},
   "source": [
    "Next, lets model bernoulli nb."
   ]
  },
  {
   "cell_type": "markdown",
   "metadata": {},
   "source": [
    "### Bernoulli NB Model"
   ]
  },
  {
   "cell_type": "markdown",
   "metadata": {},
   "source": [
    "Bernoulli Naive Bayes is appropriate when our features are all 0/1 variables which is our target variable. We use this model because it's a very fast modeling algorithm and outperforms more complicated models. \n",
    "\n",
    "We will first use the transformer TfidfVectorizer. Then we will create a new dataframe with our transformer that is our bag of words. A bag of words represents discard grammar, order, and structure in the text but track occurrences. Then, we will use our transformer as our X_train and X_test. Then, we can finally instantiatie our BernoulliNB. Then, we will fit our training dataset. Finally, we will able to get our training and testing accuracy scores.\n",
    "\n",
    "For our supplemental piece, we will also create a confusion matrix."
   ]
  },
  {
   "cell_type": "markdown",
   "metadata": {},
   "source": [
    "*Transformer is TfidfVectorizer*"
   ]
  },
  {
   "cell_type": "code",
   "execution_count": 120,
   "metadata": {},
   "outputs": [],
   "source": [
    "tvec = TfidfVectorizer()"
   ]
  },
  {
   "cell_type": "markdown",
   "metadata": {},
   "source": [
    "*Bag of words*"
   ]
  },
  {
   "cell_type": "code",
   "execution_count": 121,
   "metadata": {},
   "outputs": [],
   "source": [
    "#creating bag of words with dataframe \n",
    "data = pd.DataFrame(tvec.fit_transform(X_train).toarray(), #able to have strings into floats\n",
    "                  columns=tvec.get_feature_names())#make column names with data"
   ]
  },
  {
   "cell_type": "code",
   "execution_count": 122,
   "metadata": {},
   "outputs": [
    {
     "data": {
      "text/html": [
       "<div>\n",
       "<style scoped>\n",
       "    .dataframe tbody tr th:only-of-type {\n",
       "        vertical-align: middle;\n",
       "    }\n",
       "\n",
       "    .dataframe tbody tr th {\n",
       "        vertical-align: top;\n",
       "    }\n",
       "\n",
       "    .dataframe thead th {\n",
       "        text-align: right;\n",
       "    }\n",
       "</style>\n",
       "<table border=\"1\" class=\"dataframe\">\n",
       "  <thead>\n",
       "    <tr style=\"text-align: right;\">\n",
       "      <th></th>\n",
       "      <th>aaa</th>\n",
       "      <th>abb</th>\n",
       "      <th>abl</th>\n",
       "      <th>about</th>\n",
       "      <th>abov</th>\n",
       "      <th>abridg</th>\n",
       "      <th>absolut</th>\n",
       "      <th>academi</th>\n",
       "      <th>accord</th>\n",
       "      <th>account</th>\n",
       "      <th>...</th>\n",
       "      <th>young</th>\n",
       "      <th>younger</th>\n",
       "      <th>your</th>\n",
       "      <th>yourself</th>\n",
       "      <th>yr</th>\n",
       "      <th>zack</th>\n",
       "      <th>zafon</th>\n",
       "      <th>zeitlin</th>\n",
       "      <th>zero</th>\n",
       "      <th>zodiac</th>\n",
       "    </tr>\n",
       "  </thead>\n",
       "  <tbody>\n",
       "    <tr>\n",
       "      <th>0</th>\n",
       "      <td>0.0</td>\n",
       "      <td>0.0</td>\n",
       "      <td>0.0</td>\n",
       "      <td>0.0</td>\n",
       "      <td>0.0</td>\n",
       "      <td>0.0</td>\n",
       "      <td>0.0</td>\n",
       "      <td>0.0</td>\n",
       "      <td>0.0</td>\n",
       "      <td>0.0</td>\n",
       "      <td>...</td>\n",
       "      <td>0.0</td>\n",
       "      <td>0.0</td>\n",
       "      <td>0.0</td>\n",
       "      <td>0.0</td>\n",
       "      <td>0.0</td>\n",
       "      <td>0.0</td>\n",
       "      <td>0.0</td>\n",
       "      <td>0.0</td>\n",
       "      <td>0.0</td>\n",
       "      <td>0.0</td>\n",
       "    </tr>\n",
       "    <tr>\n",
       "      <th>1</th>\n",
       "      <td>0.0</td>\n",
       "      <td>0.0</td>\n",
       "      <td>0.0</td>\n",
       "      <td>0.0</td>\n",
       "      <td>0.0</td>\n",
       "      <td>0.0</td>\n",
       "      <td>0.0</td>\n",
       "      <td>0.0</td>\n",
       "      <td>0.0</td>\n",
       "      <td>0.0</td>\n",
       "      <td>...</td>\n",
       "      <td>0.0</td>\n",
       "      <td>0.0</td>\n",
       "      <td>0.0</td>\n",
       "      <td>0.0</td>\n",
       "      <td>0.0</td>\n",
       "      <td>0.0</td>\n",
       "      <td>0.0</td>\n",
       "      <td>0.0</td>\n",
       "      <td>0.0</td>\n",
       "      <td>0.0</td>\n",
       "    </tr>\n",
       "    <tr>\n",
       "      <th>2</th>\n",
       "      <td>0.0</td>\n",
       "      <td>0.0</td>\n",
       "      <td>0.0</td>\n",
       "      <td>0.0</td>\n",
       "      <td>0.0</td>\n",
       "      <td>0.0</td>\n",
       "      <td>0.0</td>\n",
       "      <td>0.0</td>\n",
       "      <td>0.0</td>\n",
       "      <td>0.0</td>\n",
       "      <td>...</td>\n",
       "      <td>0.0</td>\n",
       "      <td>0.0</td>\n",
       "      <td>0.0</td>\n",
       "      <td>0.0</td>\n",
       "      <td>0.0</td>\n",
       "      <td>0.0</td>\n",
       "      <td>0.0</td>\n",
       "      <td>0.0</td>\n",
       "      <td>0.0</td>\n",
       "      <td>0.0</td>\n",
       "    </tr>\n",
       "    <tr>\n",
       "      <th>3</th>\n",
       "      <td>0.0</td>\n",
       "      <td>0.0</td>\n",
       "      <td>0.0</td>\n",
       "      <td>0.0</td>\n",
       "      <td>0.0</td>\n",
       "      <td>0.0</td>\n",
       "      <td>0.0</td>\n",
       "      <td>0.0</td>\n",
       "      <td>0.0</td>\n",
       "      <td>0.0</td>\n",
       "      <td>...</td>\n",
       "      <td>0.0</td>\n",
       "      <td>0.0</td>\n",
       "      <td>0.0</td>\n",
       "      <td>0.0</td>\n",
       "      <td>0.0</td>\n",
       "      <td>0.0</td>\n",
       "      <td>0.0</td>\n",
       "      <td>0.0</td>\n",
       "      <td>0.0</td>\n",
       "      <td>0.0</td>\n",
       "    </tr>\n",
       "    <tr>\n",
       "      <th>4</th>\n",
       "      <td>0.0</td>\n",
       "      <td>0.0</td>\n",
       "      <td>0.0</td>\n",
       "      <td>0.0</td>\n",
       "      <td>0.0</td>\n",
       "      <td>0.0</td>\n",
       "      <td>0.0</td>\n",
       "      <td>0.0</td>\n",
       "      <td>0.0</td>\n",
       "      <td>0.0</td>\n",
       "      <td>...</td>\n",
       "      <td>0.0</td>\n",
       "      <td>0.0</td>\n",
       "      <td>0.0</td>\n",
       "      <td>0.0</td>\n",
       "      <td>0.0</td>\n",
       "      <td>0.0</td>\n",
       "      <td>0.0</td>\n",
       "      <td>0.0</td>\n",
       "      <td>0.0</td>\n",
       "      <td>0.0</td>\n",
       "    </tr>\n",
       "  </tbody>\n",
       "</table>\n",
       "<p>5 rows × 1941 columns</p>\n",
       "</div>"
      ],
      "text/plain": [
       "   aaa  abb  abl  about  abov  abridg  absolut  academi  accord  account  ...  \\\n",
       "0  0.0  0.0  0.0    0.0   0.0     0.0      0.0      0.0     0.0      0.0  ...   \n",
       "1  0.0  0.0  0.0    0.0   0.0     0.0      0.0      0.0     0.0      0.0  ...   \n",
       "2  0.0  0.0  0.0    0.0   0.0     0.0      0.0      0.0     0.0      0.0  ...   \n",
       "3  0.0  0.0  0.0    0.0   0.0     0.0      0.0      0.0     0.0      0.0  ...   \n",
       "4  0.0  0.0  0.0    0.0   0.0     0.0      0.0      0.0     0.0      0.0  ...   \n",
       "\n",
       "   young  younger  your  yourself   yr  zack  zafon  zeitlin  zero  zodiac  \n",
       "0    0.0      0.0   0.0       0.0  0.0   0.0    0.0      0.0   0.0     0.0  \n",
       "1    0.0      0.0   0.0       0.0  0.0   0.0    0.0      0.0   0.0     0.0  \n",
       "2    0.0      0.0   0.0       0.0  0.0   0.0    0.0      0.0   0.0     0.0  \n",
       "3    0.0      0.0   0.0       0.0  0.0   0.0    0.0      0.0   0.0     0.0  \n",
       "4    0.0      0.0   0.0       0.0  0.0   0.0    0.0      0.0   0.0     0.0  \n",
       "\n",
       "[5 rows x 1941 columns]"
      ]
     },
     "execution_count": 122,
     "metadata": {},
     "output_type": "execute_result"
    }
   ],
   "source": [
    "#checking to see if it worked\n",
    "data.head()"
   ]
  },
  {
   "cell_type": "markdown",
   "metadata": {},
   "source": [
    "*Transformer training and testing feature*"
   ]
  },
  {
   "cell_type": "code",
   "execution_count": 123,
   "metadata": {},
   "outputs": [],
   "source": [
    "X_train = tvec.transform(X_train)\n",
    "\n",
    "X_test = tvec.transform(X_test)"
   ]
  },
  {
   "cell_type": "markdown",
   "metadata": {},
   "source": [
    "*Instantiatie the model*"
   ]
  },
  {
   "cell_type": "code",
   "execution_count": 124,
   "metadata": {},
   "outputs": [],
   "source": [
    "br = BernoulliNB()"
   ]
  },
  {
   "cell_type": "markdown",
   "metadata": {},
   "source": [
    "*Fit the model*"
   ]
  },
  {
   "cell_type": "code",
   "execution_count": 125,
   "metadata": {},
   "outputs": [],
   "source": [
    "br.fit(X_train, y_train);"
   ]
  },
  {
   "cell_type": "markdown",
   "metadata": {},
   "source": [
    "*Accuracy testing score*"
   ]
  },
  {
   "cell_type": "code",
   "execution_count": 126,
   "metadata": {},
   "outputs": [
    {
     "data": {
      "text/plain": [
       "0.834920634920635"
      ]
     },
     "execution_count": 126,
     "metadata": {},
     "output_type": "execute_result"
    }
   ],
   "source": [
    "br.score(X_test, y_test)"
   ]
  },
  {
   "cell_type": "markdown",
   "metadata": {},
   "source": [
    "The accuracy score on our testing data set is about 0.835."
   ]
  },
  {
   "cell_type": "markdown",
   "metadata": {},
   "source": [
    "*Accuracy training score*"
   ]
  },
  {
   "cell_type": "code",
   "execution_count": 127,
   "metadata": {},
   "outputs": [
    {
     "data": {
      "text/plain": [
       "0.9733124018838305"
      ]
     },
     "execution_count": 127,
     "metadata": {},
     "output_type": "execute_result"
    }
   ],
   "source": [
    "br.score(X_train, y_train)"
   ]
  },
  {
   "cell_type": "markdown",
   "metadata": {},
   "source": [
    "The accuracy score on our training data set is about 0.973."
   ]
  },
  {
   "cell_type": "markdown",
   "metadata": {},
   "source": [
    "Next, lets create our confusion matrix."
   ]
  },
  {
   "cell_type": "markdown",
   "metadata": {},
   "source": [
    "#### NB: Confusion Matrix\n"
   ]
  },
  {
   "cell_type": "markdown",
   "metadata": {},
   "source": [
    "*Getting our testing predictions*"
   ]
  },
  {
   "cell_type": "code",
   "execution_count": 128,
   "metadata": {},
   "outputs": [],
   "source": [
    "preds_test_1 = br.predict(X_test)"
   ]
  },
  {
   "cell_type": "markdown",
   "metadata": {},
   "source": [
    "*Creating our matrix*"
   ]
  },
  {
   "cell_type": "code",
   "execution_count": 129,
   "metadata": {},
   "outputs": [],
   "source": [
    "cm_1 = confusion_matrix(y_test, # True values.\n",
    "                 preds_test_1)  # Predicted values."
   ]
  },
  {
   "cell_type": "markdown",
   "metadata": {},
   "source": [
    "*Creating a dataframe for our matrix*"
   ]
  },
  {
   "cell_type": "code",
   "execution_count": 130,
   "metadata": {},
   "outputs": [
    {
     "data": {
      "text/html": [
       "<div>\n",
       "<style scoped>\n",
       "    .dataframe tbody tr th:only-of-type {\n",
       "        vertical-align: middle;\n",
       "    }\n",
       "\n",
       "    .dataframe tbody tr th {\n",
       "        vertical-align: top;\n",
       "    }\n",
       "\n",
       "    .dataframe thead th {\n",
       "        text-align: right;\n",
       "    }\n",
       "</style>\n",
       "<table border=\"1\" class=\"dataframe\">\n",
       "  <thead>\n",
       "    <tr style=\"text-align: right;\">\n",
       "      <th></th>\n",
       "      <th>Predicted Books</th>\n",
       "      <th>Predicted Moives</th>\n",
       "    </tr>\n",
       "  </thead>\n",
       "  <tbody>\n",
       "    <tr>\n",
       "      <th>Actual Books</th>\n",
       "      <td>136</td>\n",
       "      <td>20</td>\n",
       "    </tr>\n",
       "    <tr>\n",
       "      <th>Actual Movies</th>\n",
       "      <td>38</td>\n",
       "      <td>121</td>\n",
       "    </tr>\n",
       "  </tbody>\n",
       "</table>\n",
       "</div>"
      ],
      "text/plain": [
       "               Predicted Books  Predicted Moives\n",
       "Actual Books               136                20\n",
       "Actual Movies               38               121"
      ]
     },
     "execution_count": 130,
     "metadata": {},
     "output_type": "execute_result"
    }
   ],
   "source": [
    "#create a data frame for cm_2\n",
    "pd.DataFrame(data = cm, \n",
    "             columns = ['Predicted Books', 'Predicted Moives'],\n",
    "             index = ['Actual Books', 'Actual Movies'])"
   ]
  },
  {
   "cell_type": "markdown",
   "metadata": {},
   "source": [
    "Based on the confusion matrix, we was able to determine that out of 315 posts, 257 posts were correctly classified and 58 posts were misclassified. "
   ]
  },
  {
   "cell_type": "markdown",
   "metadata": {},
   "source": [
    "Finally, lets move on to our interpreataion."
   ]
  },
  {
   "cell_type": "markdown",
   "metadata": {},
   "source": [
    "#### NB: Interpretation"
   ]
  },
  {
   "cell_type": "markdown",
   "metadata": {},
   "source": [
    "**Metrics:** \n",
    "- The training accuracy score is about 97 percent.\n",
    "- The testing accuracy score is about 84 percent. \n",
    "- The correctly classified posts is 257.  \n",
    "- The misclassified posts is 58. "
   ]
  },
  {
   "cell_type": "markdown",
   "metadata": {},
   "source": [
    "**Successes:** The training accuracy score fits really well with our training dataset. The RMSE of our training data has small amount of residuals away from our target variable. Therefore, base on our testing accuracy score, this model will be able to fit well with unknown data if we still use these two subreddit sites. "
   ]
  },
  {
   "cell_type": "markdown",
   "metadata": {},
   "source": [
    "**Downfalls:** The testing accuracy score fits less with our training data. And the RMSE of our testing data has more residuals away from our target variable."
   ]
  },
  {
   "cell_type": "markdown",
   "metadata": {},
   "source": [
    "**Overfit or Underfit:** This model is overfit because of low bias and high variance. "
   ]
  },
  {
   "cell_type": "markdown",
   "metadata": {},
   "source": [
    "**Suggestions:** We can add other features to reduce the high variance or we could Instantiate the PolynomialFeatures to decrease the overfitting. "
   ]
  },
  {
   "cell_type": "markdown",
   "metadata": {},
   "source": [
    "**Connect to the real world:** Intuitively getting more correctly classified posts than misclassified posts is valid because the r/books subreddit had more selftext text content than the r/movies subreddit. In other words, we had to drop a lot of the r/movies posts. "
   ]
  },
  {
   "cell_type": "markdown",
   "metadata": {},
   "source": [
    "Next, lets model bagged decision tree. "
   ]
  },
  {
   "cell_type": "markdown",
   "metadata": {},
   "source": [
    "### Bagged Decision Tree"
   ]
  },
  {
   "cell_type": "markdown",
   "metadata": {},
   "source": [
    "Decision trees have limitations. In particular, trees that are grown very deep tend to learn highly irregular patterns. Thus, we will be using a Bagged Decision Tree Model. BDT fixes this problem by exposing different trees to different sub-samples of the training set. \n",
    "\n",
    "We will first instantiate the BaggingClassifier. Then, we will fit our training. Finally, we will able to get our training and testing accuracy scores.\n",
    "\n",
    "For our supplemental piece, we will also create a confusion matrix.\n"
   ]
  },
  {
   "cell_type": "markdown",
   "metadata": {},
   "source": [
    "*Instantiate BaggingClassifier.*"
   ]
  },
  {
   "cell_type": "code",
   "execution_count": 131,
   "metadata": {},
   "outputs": [],
   "source": [
    "bag = BaggingClassifier(random_state = 42)#using random state 42"
   ]
  },
  {
   "cell_type": "markdown",
   "metadata": {},
   "source": [
    "*Fit the model*"
   ]
  },
  {
   "cell_type": "code",
   "execution_count": 132,
   "metadata": {},
   "outputs": [],
   "source": [
    "bag.fit(X_train, y_train);"
   ]
  },
  {
   "cell_type": "markdown",
   "metadata": {},
   "source": [
    "*Accuracy training score*"
   ]
  },
  {
   "cell_type": "code",
   "execution_count": 133,
   "metadata": {},
   "outputs": [
    {
     "data": {
      "text/plain": [
       "0.9905808477237049"
      ]
     },
     "execution_count": 133,
     "metadata": {},
     "output_type": "execute_result"
    }
   ],
   "source": [
    "bag.score(X_train, y_train)"
   ]
  },
  {
   "cell_type": "markdown",
   "metadata": {},
   "source": [
    "The accuracy score on our training data set is about 0.991."
   ]
  },
  {
   "cell_type": "markdown",
   "metadata": {},
   "source": [
    "*Accuracy testing score*"
   ]
  },
  {
   "cell_type": "code",
   "execution_count": 134,
   "metadata": {},
   "outputs": [
    {
     "data": {
      "text/plain": [
       "0.7587301587301587"
      ]
     },
     "execution_count": 134,
     "metadata": {},
     "output_type": "execute_result"
    }
   ],
   "source": [
    "bag.score(X_test, y_test)"
   ]
  },
  {
   "cell_type": "markdown",
   "metadata": {},
   "source": [
    "The accuracy score on our testing data set is about 0.759."
   ]
  },
  {
   "cell_type": "markdown",
   "metadata": {},
   "source": [
    "Next, lets create our confusion matrix."
   ]
  },
  {
   "cell_type": "markdown",
   "metadata": {},
   "source": [
    "#### BDT: Confusion Matrix"
   ]
  },
  {
   "cell_type": "markdown",
   "metadata": {},
   "source": [
    "*Getting our testing predictions*"
   ]
  },
  {
   "cell_type": "code",
   "execution_count": 135,
   "metadata": {},
   "outputs": [],
   "source": [
    "preds_test_3 = bag.predict(X_test)"
   ]
  },
  {
   "cell_type": "markdown",
   "metadata": {},
   "source": [
    "*Creating our matrix*"
   ]
  },
  {
   "cell_type": "code",
   "execution_count": 136,
   "metadata": {},
   "outputs": [],
   "source": [
    "cm_3 = confusion_matrix(y_test, # True values.\n",
    "                 preds_test_3)  # Predicted values."
   ]
  },
  {
   "cell_type": "markdown",
   "metadata": {},
   "source": [
    "*Creating a dataframe for our matrix*"
   ]
  },
  {
   "cell_type": "code",
   "execution_count": 137,
   "metadata": {
    "scrolled": true
   },
   "outputs": [
    {
     "data": {
      "text/html": [
       "<div>\n",
       "<style scoped>\n",
       "    .dataframe tbody tr th:only-of-type {\n",
       "        vertical-align: middle;\n",
       "    }\n",
       "\n",
       "    .dataframe tbody tr th {\n",
       "        vertical-align: top;\n",
       "    }\n",
       "\n",
       "    .dataframe thead th {\n",
       "        text-align: right;\n",
       "    }\n",
       "</style>\n",
       "<table border=\"1\" class=\"dataframe\">\n",
       "  <thead>\n",
       "    <tr style=\"text-align: right;\">\n",
       "      <th></th>\n",
       "      <th>Predicted Books</th>\n",
       "      <th>Predicted Moives</th>\n",
       "    </tr>\n",
       "  </thead>\n",
       "  <tbody>\n",
       "    <tr>\n",
       "      <th>Actual Books</th>\n",
       "      <td>113</td>\n",
       "      <td>43</td>\n",
       "    </tr>\n",
       "    <tr>\n",
       "      <th>Actual Movies</th>\n",
       "      <td>33</td>\n",
       "      <td>126</td>\n",
       "    </tr>\n",
       "  </tbody>\n",
       "</table>\n",
       "</div>"
      ],
      "text/plain": [
       "               Predicted Books  Predicted Moives\n",
       "Actual Books               113                43\n",
       "Actual Movies               33               126"
      ]
     },
     "execution_count": 137,
     "metadata": {},
     "output_type": "execute_result"
    }
   ],
   "source": [
    "#create a data frame for cm_3\n",
    "pd.DataFrame(data = cm_3, \n",
    "             columns = ['Predicted Books', 'Predicted Moives'],\n",
    "             index = ['Actual Books', 'Actual Movies'])"
   ]
  },
  {
   "cell_type": "markdown",
   "metadata": {},
   "source": [
    "Based on the confusion matrix, we was able to determine that out of 315 posts, 239 posts were correctly classified and 76 posts were misclassified. "
   ]
  },
  {
   "cell_type": "markdown",
   "metadata": {},
   "source": [
    "Finally, lets move on to our interpreataion."
   ]
  },
  {
   "cell_type": "markdown",
   "metadata": {},
   "source": [
    "#### BDT: Interpretation"
   ]
  },
  {
   "cell_type": "markdown",
   "metadata": {},
   "source": [
    "**Metrics:** \n",
    "\n",
    "- The training accuracy score is about 99.1 percent.\n",
    "- The testing accuracy score is about 76 percent. \n",
    "- The correctly classified posts is 239.  \n",
    "- The misclassified posts is 76. "
   ]
  },
  {
   "cell_type": "markdown",
   "metadata": {},
   "source": [
    "**Successes:** The training accuracy score fits extremely well with our training dataset. The RMSE of our training data has small amount of residuals away from our target variable. Therefore, base on our testing accuracy score, this model will be able to fit decently well with unknown data if we still use these two subreddit sites."
   ]
  },
  {
   "cell_type": "markdown",
   "metadata": {},
   "source": [
    "**Downfalls:** The testing accuracy score fits less with our training data. And the RMSE of our testing data has more residuals away from our target variable."
   ]
  },
  {
   "cell_type": "markdown",
   "metadata": {},
   "source": [
    "**Overfit or Underfit:** This model is highly overfit because of low bias and high variance. "
   ]
  },
  {
   "cell_type": "markdown",
   "metadata": {},
   "source": [
    "**Suggestions:** We can add other features to reduce the high variance or we could Instantiate the PolynomialFeatures to decrease the overfitting. "
   ]
  },
  {
   "cell_type": "markdown",
   "metadata": {},
   "source": [
    "**Connect to the real world:** Intuitively getting more correctly classified posts than misclassified posts is valid because the r/books subreddit had more selftext text content than the r/movies subreddit. In other words, we had to drop a lot of the r/movies posts. "
   ]
  },
  {
   "cell_type": "markdown",
   "metadata": {},
   "source": [
    "Finally, lets model random forest. "
   ]
  },
  {
   "cell_type": "markdown",
   "metadata": {},
   "source": [
    "### Random Forest Model"
   ]
  },
  {
   "cell_type": "markdown",
   "metadata": {},
   "source": [
    "Random Forest are very similar to Bagged Decision Trees. Yet, the difference is only a subset of features are selected at random out of the total. In other words, the best split feature from the subset is used to split each node in a tree.\n",
    "\n",
    "We will begin by instantiating Random Forest. Then, we will determine our parameters. Then, we will transform our model to a GridSearchCV. Then, we will fit our training dataset. Finally, we will able to get our training and testing accuracy scores.\n",
    "\n",
    "For our supplemental piece, we will also create a confusion matrix."
   ]
  },
  {
   "cell_type": "markdown",
   "metadata": {},
   "source": [
    "*Instantiatie RandomForestClassifier*"
   ]
  },
  {
   "cell_type": "code",
   "execution_count": 138,
   "metadata": {},
   "outputs": [],
   "source": [
    "#trying find the best split point in our fetaures\n",
    "rf = RandomForestClassifier(random_state = 42)"
   ]
  },
  {
   "cell_type": "markdown",
   "metadata": {},
   "source": [
    "*Using the .get_params attribute, we were able to get the parameters*"
   ]
  },
  {
   "cell_type": "code",
   "execution_count": 139,
   "metadata": {},
   "outputs": [],
   "source": [
    "#got our parameters by trial and error\n",
    "rf_params = {\n",
    "    'n_estimators': [110, 150],\n",
    "    'max_depth': [None, 4, 6],\n",
    "    'criterion': ['gini']\n",
    "}"
   ]
  },
  {
   "cell_type": "markdown",
   "metadata": {},
   "source": [
    "*Transform to GridSearchCV*"
   ]
  },
  {
   "cell_type": "code",
   "execution_count": 140,
   "metadata": {},
   "outputs": [],
   "source": [
    "gs_2 = GridSearchCV(rf, param_grid=rf_params, cv=5)"
   ]
  },
  {
   "cell_type": "markdown",
   "metadata": {},
   "source": [
    "*Fit the model*"
   ]
  },
  {
   "cell_type": "code",
   "execution_count": 141,
   "metadata": {},
   "outputs": [
    {
     "name": "stderr",
     "output_type": "stream",
     "text": [
      "/Users/daisymatos25/opt/anaconda3/lib/python3.7/site-packages/sklearn/model_selection/_search.py:814: DeprecationWarning: The default of the `iid` parameter will change from True to False in version 0.22 and will be removed in 0.24. This will change numeric results when test-set sizes are unequal.\n",
      "  DeprecationWarning)\n"
     ]
    }
   ],
   "source": [
    "gs_2.fit(X_train, y_train);"
   ]
  },
  {
   "cell_type": "markdown",
   "metadata": {},
   "source": [
    "*Obtaining the best estimator and parameters*"
   ]
  },
  {
   "cell_type": "code",
   "execution_count": 142,
   "metadata": {
    "scrolled": true
   },
   "outputs": [
    {
     "name": "stdout",
     "output_type": "stream",
     "text": [
      "0.7896389324960753\n"
     ]
    },
    {
     "data": {
      "text/plain": [
       "{'criterion': 'gini', 'max_depth': None, 'n_estimators': 110}"
      ]
     },
     "execution_count": 142,
     "metadata": {},
     "output_type": "execute_result"
    }
   ],
   "source": [
    "print(gs_2.best_score_) \n",
    "gs_2.best_params_"
   ]
  },
  {
   "cell_type": "markdown",
   "metadata": {},
   "source": [
    "The best model estimator is about 0.790."
   ]
  },
  {
   "cell_type": "code",
   "execution_count": 143,
   "metadata": {},
   "outputs": [],
   "source": [
    "# Save best model as gs_model.\n",
    "gs_model_2 = gs_2.best_estimator_"
   ]
  },
  {
   "cell_type": "markdown",
   "metadata": {},
   "source": [
    "*Accuracy training score*"
   ]
  },
  {
   "cell_type": "code",
   "execution_count": 144,
   "metadata": {},
   "outputs": [
    {
     "data": {
      "text/plain": [
       "0.9984301412872841"
      ]
     },
     "execution_count": 144,
     "metadata": {},
     "output_type": "execute_result"
    }
   ],
   "source": [
    "gs_model_2.score(X_train, y_train)"
   ]
  },
  {
   "cell_type": "markdown",
   "metadata": {},
   "source": [
    "The accuracy score on our training data set is about 0.998."
   ]
  },
  {
   "cell_type": "markdown",
   "metadata": {},
   "source": [
    "*Accuracy testing score*"
   ]
  },
  {
   "cell_type": "code",
   "execution_count": 145,
   "metadata": {},
   "outputs": [
    {
     "data": {
      "text/plain": [
       "0.7777777777777778"
      ]
     },
     "execution_count": 145,
     "metadata": {},
     "output_type": "execute_result"
    }
   ],
   "source": [
    "gs_model_2.score(X_test, y_test)"
   ]
  },
  {
   "cell_type": "markdown",
   "metadata": {},
   "source": [
    "The accuracy score on our testing data set is about 0.778."
   ]
  },
  {
   "cell_type": "markdown",
   "metadata": {},
   "source": [
    "Next, lets create our confusion matrix."
   ]
  },
  {
   "cell_type": "markdown",
   "metadata": {},
   "source": [
    "#### RFM: Confusion Matrix"
   ]
  },
  {
   "cell_type": "markdown",
   "metadata": {},
   "source": [
    "The confusion matrix we will create has our true values and predicted values."
   ]
  },
  {
   "cell_type": "markdown",
   "metadata": {},
   "source": [
    "*Getting our testing predictions*"
   ]
  },
  {
   "cell_type": "code",
   "execution_count": 146,
   "metadata": {},
   "outputs": [],
   "source": [
    "preds_test_4 = gs_2.predict(X_test)"
   ]
  },
  {
   "cell_type": "markdown",
   "metadata": {},
   "source": [
    "*Creating our matrix*"
   ]
  },
  {
   "cell_type": "code",
   "execution_count": 147,
   "metadata": {},
   "outputs": [],
   "source": [
    "cm_4 = confusion_matrix(y_test, # True values.\n",
    "                 preds_test_4)  # Predicted values."
   ]
  },
  {
   "cell_type": "markdown",
   "metadata": {},
   "source": [
    "*Creating a dataframe for our matrix*"
   ]
  },
  {
   "cell_type": "code",
   "execution_count": 148,
   "metadata": {},
   "outputs": [
    {
     "data": {
      "text/html": [
       "<div>\n",
       "<style scoped>\n",
       "    .dataframe tbody tr th:only-of-type {\n",
       "        vertical-align: middle;\n",
       "    }\n",
       "\n",
       "    .dataframe tbody tr th {\n",
       "        vertical-align: top;\n",
       "    }\n",
       "\n",
       "    .dataframe thead th {\n",
       "        text-align: right;\n",
       "    }\n",
       "</style>\n",
       "<table border=\"1\" class=\"dataframe\">\n",
       "  <thead>\n",
       "    <tr style=\"text-align: right;\">\n",
       "      <th></th>\n",
       "      <th>Predicted Books</th>\n",
       "      <th>Predicted Moives</th>\n",
       "    </tr>\n",
       "  </thead>\n",
       "  <tbody>\n",
       "    <tr>\n",
       "      <th>Actual Books</th>\n",
       "      <td>100</td>\n",
       "      <td>56</td>\n",
       "    </tr>\n",
       "    <tr>\n",
       "      <th>Actual Movies</th>\n",
       "      <td>14</td>\n",
       "      <td>145</td>\n",
       "    </tr>\n",
       "  </tbody>\n",
       "</table>\n",
       "</div>"
      ],
      "text/plain": [
       "               Predicted Books  Predicted Moives\n",
       "Actual Books               100                56\n",
       "Actual Movies               14               145"
      ]
     },
     "execution_count": 148,
     "metadata": {},
     "output_type": "execute_result"
    }
   ],
   "source": [
    "#create a data frame for cm_4\n",
    "pd.DataFrame(data = cm_4, \n",
    "             columns = ['Predicted Books', 'Predicted Moives'],\n",
    "             index = ['Actual Books', 'Actual Movies'])"
   ]
  },
  {
   "cell_type": "markdown",
   "metadata": {},
   "source": [
    "Based on the confusion matrix, we was able to determine that out of 315 posts, 245 posts were correctly classified and 70 posts were misclassified."
   ]
  },
  {
   "cell_type": "markdown",
   "metadata": {},
   "source": [
    "Finally, lets move on to our interpreataion."
   ]
  },
  {
   "cell_type": "markdown",
   "metadata": {},
   "source": [
    "#### RF: Interpretation"
   ]
  },
  {
   "cell_type": "markdown",
   "metadata": {},
   "source": [
    "**Metrics:** \n",
    "\n",
    "- The training accuracy score is about 99.8 percent.\n",
    "- The testing accuracy score is about 78 percent. \n",
    "- The correctly classified posts is 245.  \n",
    "- The misclassified posts is 70. "
   ]
  },
  {
   "cell_type": "markdown",
   "metadata": {},
   "source": [
    "**Successes:** The training accuracy score fits extremely well with our training dataset. The best out of all of our models. The RMSE of our training data has very small residuals away from our target variable. Therefore, base on our testing accuracy score, this model will be able to fit decently well with unknown data if we still use these two subreddit sites."
   ]
  },
  {
   "cell_type": "markdown",
   "metadata": {},
   "source": [
    "**Downfalls:** The testing accuracy score fits less with our training data. And the RMSE of our testing data has more residuals away from our target variable."
   ]
  },
  {
   "cell_type": "markdown",
   "metadata": {},
   "source": [
    "**Overfit or Underfit:** This model is highly overfit because of low bias and high variance. "
   ]
  },
  {
   "cell_type": "markdown",
   "metadata": {},
   "source": [
    "**Suggestions:** We can add other features to reduce the high variance or we could Instantiate the PolynomialFeatures to decrease the overfitting. "
   ]
  },
  {
   "cell_type": "markdown",
   "metadata": {},
   "source": [
    "**Connect to the real world:** Intuitively getting more correctly classified posts than misclassified posts is valid because the r/books subreddit had more selftext text content than the r/movies subreddit. In other words, we had to drop a lot of the r/movies posts. "
   ]
  },
  {
   "cell_type": "markdown",
   "metadata": {},
   "source": [
    "## Conclusion and Recommendations"
   ]
  },
  {
   "cell_type": "markdown",
   "metadata": {},
   "source": [
    "|Model|Training Accuracy Score|Testing Accuracy Score|Correctly Classified|Misclassified|\n",
    "|---|---|---|---|---|\n",
    "|Logistic Regression|0.997|0.816|257 posts|58 posts|\n",
    "|Bernoulli Naive Bayes|0.973|0.835|257 posts|58 posts|\n",
    "|Bagged Decision Tree|0.991|0.759|239 posts|76 posts|\n",
    "|Random forest|0.998|0.778|245 posts|70 posts|"
   ]
  },
  {
   "cell_type": "markdown",
   "metadata": {},
   "source": [
    "All the classification models: Logistic Regression, Bernoulli Naive Bayes, Bagged Decision Tree, and Random Forest surpassed the baseline accuracy. Yet, the **Bernoulli Naive Bayes Classification Model** was the best model to test our training data because it was able to manage well with unknown data according to the testing accuracy score.\n",
    "\n",
    "However, the model was still overfit because of low bias and high variance.\n",
    "\n",
    "Despite the overfitting, this model was able to classified similar content from two different web sources: r/books and r/movies. Also it was able to identify where each post came from which subreddit. It had one of the highest in correctly classifying posts which was 257. Therefore, Reddit will be able to implement this model for their studies on this data science topic. \n",
    "\n",
    "Yet, this model still had its limitations. Some of the posts had similar titles and incorrect spelling. It was not able to identify these mishaps because of NLP transformer. In other words, both of these mishaps could of swayed our model results. \n",
    "\n",
    "Also, our model can improve it's accuracy if we further tuned our hyperparameters. Additionally, we could of instantiate the PolynomialFeatures before our model to decrease the overfitting.\n",
    "\n",
    "So we still have some recommend questions we need to ask:\n",
    "\n",
    "- Should we increase the stopword list with more nouns to have a better predictable model? (i.e. ‘like’ and ‘help’)\n",
    "- Each of the subreddits change over time, so will our model still predict accurately?  \n",
    "- More specifically when big blockbuster movies come out, i.e. Superhero films, will our model still accurately predict given r/books does not talk about comics?  \n",
    "- Will a different model that we had not yet modeled produce a better accuracy score? (i.e. SLM, Adaboost)"
   ]
  }
 ],
 "metadata": {
  "kernelspec": {
   "display_name": "Python 3",
   "language": "python",
   "name": "python3"
  },
  "language_info": {
   "codemirror_mode": {
    "name": "ipython",
    "version": 3
   },
   "file_extension": ".py",
   "mimetype": "text/x-python",
   "name": "python",
   "nbconvert_exporter": "python",
   "pygments_lexer": "ipython3",
   "version": "3.7.4"
  }
 },
 "nbformat": 4,
 "nbformat_minor": 2
}
